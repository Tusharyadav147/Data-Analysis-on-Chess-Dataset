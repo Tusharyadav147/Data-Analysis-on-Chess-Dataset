{
  "nbformat": 4,
  "nbformat_minor": 0,
  "metadata": {
    "colab": {
      "provenance": [],
      "collapsed_sections": []
    },
    "kernelspec": {
      "name": "python3",
      "display_name": "Python 3"
    },
    "language_info": {
      "name": "python"
    }
  },
  "cells": [
    {
      "cell_type": "markdown",
      "source": [
        "# Mounting Google Colab with drive"
      ],
      "metadata": {
        "id": "9cgW4IM93xpy"
      }
    },
    {
      "cell_type": "code",
      "source": [
        "from google.colab import drive\n",
        "drive.mount(\"/content/drive/\")"
      ],
      "metadata": {
        "id": "pe7br2_8JEle",
        "colab": {
          "base_uri": "https://localhost:8080/"
        },
        "outputId": "de9211a2-7f8e-42af-a926-f47800ba4459"
      },
      "execution_count": 1,
      "outputs": [
        {
          "output_type": "stream",
          "name": "stdout",
          "text": [
            "Drive already mounted at /content/drive/; to attempt to forcibly remount, call drive.mount(\"/content/drive/\", force_remount=True).\n"
          ]
        }
      ]
    },
    {
      "cell_type": "markdown",
      "source": [
        "# Installing Libraries"
      ],
      "metadata": {
        "id": "wnqZSQkl35Z3"
      }
    },
    {
      "cell_type": "code",
      "execution_count": 2,
      "metadata": {
        "id": "xuZSZQMnImJN",
        "colab": {
          "base_uri": "https://localhost:8080/"
        },
        "outputId": "d26ce084-2e85-4d77-9c70-40771ddf4c07"
      },
      "outputs": [
        {
          "output_type": "stream",
          "name": "stdout",
          "text": [
            "Looking in indexes: https://pypi.org/simple, https://us-python.pkg.dev/colab-wheels/public/simple/\n",
            "Requirement already satisfied: pyspark in /usr/local/lib/python3.7/dist-packages (3.3.0)\n",
            "Requirement already satisfied: py4j==0.10.9.5 in /usr/local/lib/python3.7/dist-packages (from pyspark) (0.10.9.5)\n"
          ]
        }
      ],
      "source": [
        "pip install pyspark"
      ]
    },
    {
      "cell_type": "code",
      "source": [
        "pip install gdown"
      ],
      "metadata": {
        "id": "8xqjUvd2JYw-",
        "colab": {
          "base_uri": "https://localhost:8080/"
        },
        "outputId": "d9b0cede-4f1f-4094-a4ae-593dc3756d22"
      },
      "execution_count": 3,
      "outputs": [
        {
          "output_type": "stream",
          "name": "stdout",
          "text": [
            "Looking in indexes: https://pypi.org/simple, https://us-python.pkg.dev/colab-wheels/public/simple/\n",
            "Requirement already satisfied: gdown in /usr/local/lib/python3.7/dist-packages (4.4.0)\n",
            "Requirement already satisfied: tqdm in /usr/local/lib/python3.7/dist-packages (from gdown) (4.64.1)\n",
            "Requirement already satisfied: filelock in /usr/local/lib/python3.7/dist-packages (from gdown) (3.8.0)\n",
            "Requirement already satisfied: six in /usr/local/lib/python3.7/dist-packages (from gdown) (1.15.0)\n",
            "Requirement already satisfied: requests[socks] in /usr/local/lib/python3.7/dist-packages (from gdown) (2.23.0)\n",
            "Requirement already satisfied: beautifulsoup4 in /usr/local/lib/python3.7/dist-packages (from gdown) (4.6.3)\n",
            "Requirement already satisfied: chardet<4,>=3.0.2 in /usr/local/lib/python3.7/dist-packages (from requests[socks]->gdown) (3.0.4)\n",
            "Requirement already satisfied: urllib3!=1.25.0,!=1.25.1,<1.26,>=1.21.1 in /usr/local/lib/python3.7/dist-packages (from requests[socks]->gdown) (1.24.3)\n",
            "Requirement already satisfied: idna<3,>=2.5 in /usr/local/lib/python3.7/dist-packages (from requests[socks]->gdown) (2.10)\n",
            "Requirement already satisfied: certifi>=2017.4.17 in /usr/local/lib/python3.7/dist-packages (from requests[socks]->gdown) (2022.9.24)\n",
            "Requirement already satisfied: PySocks!=1.5.7,>=1.5.6 in /usr/local/lib/python3.7/dist-packages (from requests[socks]->gdown) (1.7.1)\n"
          ]
        }
      ]
    },
    {
      "cell_type": "markdown",
      "source": [
        "# Importing Libraries"
      ],
      "metadata": {
        "id": "hYKORkYP3Amu"
      }
    },
    {
      "cell_type": "code",
      "source": [
        "import gdown\n",
        "import pandas as pd\n",
        "\n",
        "from pyspark.sql import SparkSession\n",
        "from pyspark.sql.functions import *\n",
        "\n",
        "import os"
      ],
      "metadata": {
        "id": "c1MHM5QEI77q"
      },
      "execution_count": 4,
      "outputs": []
    },
    {
      "cell_type": "markdown",
      "source": [
        "# Loading Datasets Into My Drive"
      ],
      "metadata": {
        "id": "KoxtI_7_3EmU"
      }
    },
    {
      "cell_type": "code",
      "source": [
        "def load_file(filename, fileid):\n",
        "  for i in range(len(filename)):\n",
        "    url=\"https://drive.google.com/uc?id={}\".format(fileid[i])\n",
        "    output = \"/content/drive/MyDrive/DE Assigment/\" + filename[i]\n",
        "    gdown.download(url, output, quiet = False)\n",
        "\n",
        "filename = [\"chess_wc_history_game_info.csv\", \"chess_wc_history_moves.csv\", \"eco_codes.csv\"]\n",
        "fileid = [\"1UBoiIGhfg-Yxk9wXbc48Lx9Z9ZzWg_4Z\",\"1Th6rP8rVchIvXV25bzO5Er_SvyRoNaic\", \"1eysHHc8I905r8YVeALYydQBl0E9caNNI\"]\n",
        "load_file(filename, fileid)"
      ],
      "metadata": {
        "id": "WSpCAf-pScUI",
        "colab": {
          "base_uri": "https://localhost:8080/"
        },
        "outputId": "f5bf0575-0285-4754-87ef-1175194f1451"
      },
      "execution_count": 5,
      "outputs": [
        {
          "output_type": "stream",
          "name": "stderr",
          "text": [
            "Downloading...\n",
            "From: https://drive.google.com/uc?id=1UBoiIGhfg-Yxk9wXbc48Lx9Z9ZzWg_4Z\n",
            "To: /content/drive/MyDrive/DE Assigment/chess_wc_history_game_info.csv\n",
            "100%|██████████| 596k/596k [00:00<00:00, 38.1MB/s]\n",
            "Downloading...\n",
            "From: https://drive.google.com/uc?id=1Th6rP8rVchIvXV25bzO5Er_SvyRoNaic\n",
            "To: /content/drive/MyDrive/DE Assigment/chess_wc_history_moves.csv\n",
            "100%|██████████| 112M/112M [00:00<00:00, 129MB/s]\n",
            "Downloading...\n",
            "From: https://drive.google.com/uc?id=1eysHHc8I905r8YVeALYydQBl0E9caNNI\n",
            "To: /content/drive/MyDrive/DE Assigment/eco_codes.csv\n",
            "100%|██████████| 45.6k/45.6k [00:00<00:00, 7.92MB/s]\n"
          ]
        }
      ]
    },
    {
      "cell_type": "markdown",
      "source": [
        "# Creating Spark Session"
      ],
      "metadata": {
        "id": "y_E4FhkJ3NEj"
      }
    },
    {
      "cell_type": "code",
      "source": [
        "session = SparkSession.builder.appName(\"DE_Assignment\").master(\"local\").getOrCreate()\n",
        "read_data = session.read"
      ],
      "metadata": {
        "id": "q-XVwTyJUqVA"
      },
      "execution_count": 6,
      "outputs": []
    },
    {
      "cell_type": "code",
      "source": [
        "df_game_info = read_data.option(\"header\", True).option(\"inferSchema\", True).csv(\"/content/drive/MyDrive/DE Assigment/chess_wc_history_game_info.csv\")\n",
        "df_moves = read_data.option(\"header\", True).option(\"inferSchema\", True).csv(\"/content/drive/MyDrive/DE Assigment/chess_wc_history_moves.csv\")\n",
        "df_codes = read_data.option(\"header\", True).option(\"inferSchema\", True).csv(\"/content/drive/MyDrive/DE Assigment/eco_codes.csv\")"
      ],
      "metadata": {
        "id": "CRO20M3bU_qm"
      },
      "execution_count": 7,
      "outputs": []
    },
    {
      "cell_type": "code",
      "source": [
        "df_game_info.printSchema()"
      ],
      "metadata": {
        "id": "z81Q1YSyVqjA",
        "colab": {
          "base_uri": "https://localhost:8080/"
        },
        "outputId": "b2a0b1a2-67b7-4a34-e12f-fa69bf899537"
      },
      "execution_count": 8,
      "outputs": [
        {
          "output_type": "stream",
          "name": "stdout",
          "text": [
            "root\n",
            " |-- game_id: string (nullable = true)\n",
            " |-- game_order: integer (nullable = true)\n",
            " |-- event: string (nullable = true)\n",
            " |-- site: string (nullable = true)\n",
            " |-- date_played: string (nullable = true)\n",
            " |-- round: double (nullable = true)\n",
            " |-- white: string (nullable = true)\n",
            " |-- black: string (nullable = true)\n",
            " |-- result: string (nullable = true)\n",
            " |-- white_elo: integer (nullable = true)\n",
            " |-- black_elo: integer (nullable = true)\n",
            " |-- white_title: string (nullable = true)\n",
            " |-- black_title: string (nullable = true)\n",
            " |-- winner: string (nullable = true)\n",
            " |-- winner_elo: integer (nullable = true)\n",
            " |-- loser: string (nullable = true)\n",
            " |-- loser_elo: integer (nullable = true)\n",
            " |-- winner_loser_elo_diff: integer (nullable = true)\n",
            " |-- eco: string (nullable = true)\n",
            " |-- date_created: timestamp (nullable = true)\n",
            " |-- tournament_name: string (nullable = true)\n",
            "\n"
          ]
        }
      ]
    },
    {
      "cell_type": "code",
      "source": [
        "df_moves.printSchema()"
      ],
      "metadata": {
        "id": "jz-KKh--XOPr",
        "colab": {
          "base_uri": "https://localhost:8080/"
        },
        "outputId": "0b2605ef-a60c-48b4-d9d3-8b9f9a47912b"
      },
      "execution_count": 9,
      "outputs": [
        {
          "output_type": "stream",
          "name": "stdout",
          "text": [
            "root\n",
            " |-- game_id: string (nullable = true)\n",
            " |-- move_no: integer (nullable = true)\n",
            " |-- move_no_pair: integer (nullable = true)\n",
            " |-- player: string (nullable = true)\n",
            " |-- notation: string (nullable = true)\n",
            " |-- move: string (nullable = true)\n",
            " |-- from_square: string (nullable = true)\n",
            " |-- to_square: string (nullable = true)\n",
            " |-- piece: string (nullable = true)\n",
            " |-- color: string (nullable = true)\n",
            " |-- fen: string (nullable = true)\n",
            " |-- is_check: integer (nullable = true)\n",
            " |-- is_check_mate: integer (nullable = true)\n",
            " |-- is_fifty_moves: integer (nullable = true)\n",
            " |-- is_fivefold_repetition: integer (nullable = true)\n",
            " |-- is_game_over: integer (nullable = true)\n",
            " |-- is_insufficient_material: integer (nullable = true)\n",
            " |-- white_count: integer (nullable = true)\n",
            " |-- black_count: integer (nullable = true)\n",
            " |-- white_pawn_count: integer (nullable = true)\n",
            " |-- black_pawn_count: integer (nullable = true)\n",
            " |-- white_queen_count: integer (nullable = true)\n",
            " |-- black_queen_count: integer (nullable = true)\n",
            " |-- white_bishop_count: integer (nullable = true)\n",
            " |-- black_bishop_count: integer (nullable = true)\n",
            " |-- white_knight_count: integer (nullable = true)\n",
            " |-- black_knight_count: integer (nullable = true)\n",
            " |-- white_rook_count: integer (nullable = true)\n",
            " |-- black_rook_count: integer (nullable = true)\n",
            " |-- captured_score_for_white: integer (nullable = true)\n",
            " |-- captured_score_for_black: integer (nullable = true)\n",
            " |-- fen_row1_white_count: integer (nullable = true)\n",
            " |-- fen_row2_white_count: integer (nullable = true)\n",
            " |-- fen_row3_white_count: integer (nullable = true)\n",
            " |-- fen_row4_white_count: integer (nullable = true)\n",
            " |-- fen_row5_white_count: integer (nullable = true)\n",
            " |-- fen_row6_white_count: integer (nullable = true)\n",
            " |-- fen_row7_white_count: integer (nullable = true)\n",
            " |-- fen_row8_white_count: integer (nullable = true)\n",
            " |-- fen_row1_white_value: integer (nullable = true)\n",
            " |-- fen_row2_white_value: integer (nullable = true)\n",
            " |-- fen_row3_white_value: integer (nullable = true)\n",
            " |-- fen_row4_white_value: integer (nullable = true)\n",
            " |-- fen_row5_white_value: integer (nullable = true)\n",
            " |-- fen_row6_white_value: integer (nullable = true)\n",
            " |-- fen_row7_white_value: integer (nullable = true)\n",
            " |-- fen_row8_white_value: integer (nullable = true)\n",
            " |-- fen_row1_black_count: integer (nullable = true)\n",
            " |-- fen_row2_black_count: integer (nullable = true)\n",
            " |-- fen_row3_black_count: integer (nullable = true)\n",
            " |-- fen_row4_black_count: integer (nullable = true)\n",
            " |-- fen_row5_black_count: integer (nullable = true)\n",
            " |-- fen_row6_black_count: integer (nullable = true)\n",
            " |-- fen_row7_black_count: integer (nullable = true)\n",
            " |-- fen_row8_black_count: integer (nullable = true)\n",
            " |-- fen_row1_black_value: integer (nullable = true)\n",
            " |-- fen_row2_black_value: integer (nullable = true)\n",
            " |-- fen_row3_black_value: integer (nullable = true)\n",
            " |-- fen_row4_black_value: integer (nullable = true)\n",
            " |-- fen_row5_black_value: integer (nullable = true)\n",
            " |-- fen_row6_black_value: integer (nullable = true)\n",
            " |-- fen_row7_black_value: integer (nullable = true)\n",
            " |-- fen_row8_black_value: integer (nullable = true)\n",
            " |-- move_sequence: string (nullable = true)\n",
            "\n"
          ]
        }
      ]
    },
    {
      "cell_type": "code",
      "source": [
        "df_codes.printSchema()"
      ],
      "metadata": {
        "id": "ledTGWAEXTQo",
        "colab": {
          "base_uri": "https://localhost:8080/"
        },
        "outputId": "ac7e7063-ae33-49d9-c283-d96f7fc7fa9f"
      },
      "execution_count": 10,
      "outputs": [
        {
          "output_type": "stream",
          "name": "stdout",
          "text": [
            "root\n",
            " |-- eco: string (nullable = true)\n",
            " |-- eco_name: string (nullable = true)\n",
            " |-- eco_example: string (nullable = true)\n",
            " |-- eco_type: string (nullable = true)\n",
            " |-- eco_group: string (nullable = true)\n",
            "\n"
          ]
        }
      ]
    },
    {
      "cell_type": "code",
      "source": [
        "df_codes.show(truncate = False)"
      ],
      "metadata": {
        "id": "-GNziArlfoFx",
        "colab": {
          "base_uri": "https://localhost:8080/"
        },
        "outputId": "aace8091-7bc6-4324-97a8-5e506765497e"
      },
      "execution_count": 11,
      "outputs": [
        {
          "output_type": "stream",
          "name": "stdout",
          "text": [
            "+---+------------------------------------------+-----------------------------------------+--------+---------+\n",
            "|eco|eco_name                                  |eco_example                              |eco_type|eco_group|\n",
            "+---+------------------------------------------+-----------------------------------------+--------+---------+\n",
            "|A00|Uncommon Opening                          |1 g4, a3, h3, etc.                       |A       |Flank    |\n",
            "|A01|Nimzovich-Larsen Attack                   |1 b3                                     |A       |Flank    |\n",
            "|A02|Bird's Opening                            |1 f4                                     |A       |Flank    |\n",
            "|A03|Bird's Opening                            |1 f4 d5                                  |A       |Flank    |\n",
            "|A04|Reti Opening                              |1 Nf3                                    |A       |Flank    |\n",
            "|A05|Reti Opening                              |1 Nf3 Nf6                                |A       |Flank    |\n",
            "|A06|Reti Opening                              |1 Nf3 d5                                 |A       |Flank    |\n",
            "|A07|King's Indian Attack                      |1 Nf3 d5 2 g3                            |A       |Flank    |\n",
            "|A08|King's Indian Attack                      |1 Nf3 d5 2 g3 c5 3 Bg2                   |A       |Flank    |\n",
            "|A09|Reti Opening                              |1 Nf3 d5 2 c4                            |A       |Flank    |\n",
            "|A10|English                                   |1 c4                                     |A       |Flank    |\n",
            "|A11|English, Caro-Kann Defensive System       |1 c4 c6                                  |A       |Flank    |\n",
            "|A12|English with b3                           |1 c4 c6 2 Nf3 d5 3 b3                    |A       |Flank    |\n",
            "|A13|English                                   |1 c4 e6                                  |A       |Flank    |\n",
            "|A14|English                                   |1 c4 e6 2 Nf3 d5 3 g3 Nf6 4 Bg2 Be7 5 O-O|A       |Flank    |\n",
            "|A15|English                                   |1 c4 Nf6                                 |A       |Flank    |\n",
            "|A16|English                                   |1 c4 Nf6 2 Nc3                           |A       |Flank    |\n",
            "|A17|English                                   |1 c4 Nf6 2 Nc3 e6                        |A       |Flank    |\n",
            "|A18|English, Mikenas-Carls                    |1 c4 Nf6 2 Nc3 e6 3 e4                   |A       |Flank    |\n",
            "|A19|English, Mikenas-Carls, Sicilian Variation|1 c4 Nf6 2 Nc3 e6 3 e4 c5                |A       |Flank    |\n",
            "+---+------------------------------------------+-----------------------------------------+--------+---------+\n",
            "only showing top 20 rows\n",
            "\n"
          ]
        }
      ]
    },
    {
      "cell_type": "code",
      "source": [
        "df_codes.count()"
      ],
      "metadata": {
        "colab": {
          "base_uri": "https://localhost:8080/"
        },
        "id": "Knt4eORLLLlS",
        "outputId": "bd58c674-c84d-4af0-f9f6-48a02ac7c503"
      },
      "execution_count": 12,
      "outputs": [
        {
          "output_type": "execute_result",
          "data": {
            "text/plain": [
              "500"
            ]
          },
          "metadata": {},
          "execution_count": 12
        }
      ]
    },
    {
      "cell_type": "code",
      "source": [
        "df_game_info.show(truncate = False)"
      ],
      "metadata": {
        "id": "jPh6Q2FHiVz8",
        "colab": {
          "base_uri": "https://localhost:8080/"
        },
        "outputId": "e194f98d-d32f-477a-fe5c-960118ce3ef2"
      },
      "execution_count": 13,
      "outputs": [
        {
          "output_type": "stream",
          "name": "stdout",
          "text": [
            "+------------------------------------+----------+--------+----------+-----------+-----+----------------+----------------+-------+---------+---------+-----------+-----------+---------+----------+----------------+---------+---------------------+---+-------------------+---------------+\n",
            "|game_id                             |game_order|event   |site      |date_played|round|white           |black           |result |white_elo|black_elo|white_title|black_title|winner   |winner_elo|loser           |loser_elo|winner_loser_elo_diff|eco|date_created       |tournament_name|\n",
            "+------------------------------------+----------+--------+----------+-----------+-----+----------------+----------------+-------+---------+---------+-----------+-----------+---------+----------+----------------+---------+---------------------+---+-------------------+---------------+\n",
            "|86e0b7f5-7b94-4ae3-97c8-317371622795|1         |WCh 2021|Dubai UAE |2021.11.26 |1.0  |Nepomniachtchi,I|Carlsen,M       |1/2-1/2|2782     |2855     |null       |null       |draw     |null      |draw            |null     |0                    |C88|2022-07-22 22:33:50|WorldChamp2021 |\n",
            "|dc4a10ab-54cf-49d0-b7ed-8c81a07e3e27|2         |WCh 2021|Dubai UAE |2021.11.27 |2.0  |Carlsen,M       |Nepomniachtchi,I|1/2-1/2|2855     |2782     |null       |null       |draw     |null      |draw            |null     |0                    |E06|2022-07-22 22:33:50|WorldChamp2021 |\n",
            "|f042ca37-8899-4887-87e9-e9d91c6e2d0e|3         |WCh 2021|Dubai UAE |2021.11.28 |3.0  |Nepomniachtchi,I|Carlsen,M       |1/2-1/2|2782     |2855     |null       |null       |draw     |null      |draw            |null     |0                    |C88|2022-07-22 22:33:50|WorldChamp2021 |\n",
            "|f70e4bbc-21e3-46f3-add0-7f0091822d5a|4         |WCh 2021|Dubai UAE |2021.11.30 |4.0  |Carlsen,M       |Nepomniachtchi,I|1/2-1/2|2855     |2782     |null       |null       |draw     |null      |draw            |null     |0                    |C42|2022-07-22 22:33:50|WorldChamp2021 |\n",
            "|c941c323-308a-4c86-9007-e1eb2a22cea6|5         |WCh 2021|Dubai UAE |2021.12.01 |5.0  |Nepomniachtchi,I|Carlsen,M       |1/2-1/2|2782     |2855     |null       |null       |draw     |null      |draw            |null     |0                    |C88|2022-07-22 22:33:50|WorldChamp2021 |\n",
            "|58e83255-93bb-4d58-8c14-78a991419338|6         |WCh 2021|Dubai UAE |2021.12.03 |6.0  |Carlsen,M       |Nepomniachtchi,I|1-0    |2855     |2782     |null       |null       |Carlsen,M|2855      |Nepomniachtchi,I|2782     |73                   |D02|2022-07-22 22:33:50|WorldChamp2021 |\n",
            "|29181d93-73f4-4fb2-af29-23bcf066cb62|7         |WCh 2021|Dubai UAE |2021.12.04 |7.0  |Nepomniachtchi,I|Carlsen,M       |1/2-1/2|2782     |2855     |null       |null       |draw     |null      |draw            |null     |0                    |C88|2022-07-22 22:33:50|WorldChamp2021 |\n",
            "|8a4ccd8c-d437-4296-a815-6f55b2679c3e|8         |WCh 2021|Dubai UAE |2021.12.05 |8.0  |Carlsen,M       |Nepomniachtchi,I|1-0    |2855     |2782     |null       |null       |Carlsen,M|2855      |Nepomniachtchi,I|2782     |73                   |C43|2022-07-22 22:33:50|WorldChamp2021 |\n",
            "|55a122db-27d1-495c-bec4-bc811c1e6950|9         |WCh 2021|Dubai UAE |2021.12.07 |9.0  |Nepomniachtchi,I|Carlsen,M       |0-1    |2782     |2855     |null       |null       |Carlsen,M|2855      |Nepomniachtchi,I|2782     |73                   |A13|2022-07-22 22:33:50|WorldChamp2021 |\n",
            "|1f900d18-5ea3-4f48-8e39-cd50ed088694|10        |WCh 2021|Dubai UAE |2021.12.08 |10.0 |Carlsen,M       |Nepomniachtchi,I|1/2-1/2|2855     |2782     |null       |null       |draw     |null      |draw            |null     |0                    |C42|2022-07-22 22:33:50|WorldChamp2021 |\n",
            "|c512a953-a341-47c9-a907-a608bc08be11|11        |WCh 2021|Dubai UAE |2021.12.10 |11.0 |Nepomniachtchi,I|Carlsen,M       |0-1    |2782     |2855     |null       |null       |Carlsen,M|2855      |Nepomniachtchi,I|2782     |73                   |C50|2022-07-22 22:33:50|WorldChamp2021 |\n",
            "|99d39a93-427e-4d1a-bd36-ff23f98829e5|1         |WCh 2018|London ENG|2018.11.09 |1.0  |Caruana, Fabiano|Carlsen, Magnus |1/2-1/2|2832     |2835     |GM         |GM         |draw     |null      |draw            |null     |0                    |B31|2022-07-22 22:33:50|WorldChamp2018 |\n",
            "|c87ceb3e-67a7-45d4-aa9e-ca2b2ead82be|2         |WCh 2018|London ENG|2018.11.10 |2.0  |Carlsen, Magnus |Caruana, Fabiano|1/2-1/2|2835     |2832     |GM         |GM         |draw     |null      |draw            |null     |0                    |D37|2022-07-22 22:33:50|WorldChamp2018 |\n",
            "|d50510ea-9c1a-4604-835a-430eb9502894|3         |WCh 2018|London ENG|2018.11.12 |3.0  |Caruana, Fabiano|Carlsen, Magnus |1/2-1/2|2832     |2835     |GM         |GM         |draw     |null      |draw            |null     |0                    |B31|2022-07-22 22:33:50|WorldChamp2018 |\n",
            "|e899e16a-281e-41b9-a060-7bbef890af0a|4         |WCh 2018|London ENG|2018.11.13 |4.0  |Carlsen, Magnus |Caruana, Fabiano|1/2-1/2|2835     |2832     |GM         |GM         |draw     |null      |draw            |null     |0                    |A29|2022-07-22 22:33:50|WorldChamp2018 |\n",
            "|59f8da88-fd21-4051-b25d-60f720ea4b70|5         |WCh 2018|London ENG|2018.11.15 |5.0  |Caruana, Fabiano|Carlsen, Magnus |1/2-1/2|2832     |2835     |GM         |GM         |draw     |null      |draw            |null     |0                    |B31|2022-07-22 22:33:50|WorldChamp2018 |\n",
            "|6dcc4b46-3155-47ef-8346-1356ce5a05ee|6         |WCh 2018|London ENG|2018.11.16 |6.0  |Carlsen, Magnus |Caruana, Fabiano|1/2-1/2|2835     |2832     |GM         |GM         |draw     |null      |draw            |null     |0                    |C42|2022-07-22 22:33:50|WorldChamp2018 |\n",
            "|c0c727cf-03ec-4b4a-b0f5-77af800a7287|7         |WCh 2018|London ENG|2018.11.18 |7.0  |Carlsen, Magnus |Caruana, Fabiano|1/2-1/2|2835     |2832     |GM         |GM         |draw     |null      |draw            |null     |0                    |D37|2022-07-22 22:33:50|WorldChamp2018 |\n",
            "|4c14e044-cacc-405d-af4d-2b392faca170|8         |WCh 2018|London ENG|2018.11.19 |8.0  |Caruana, Fabiano|Carlsen, Magnus |1/2-1/2|2832     |2835     |GM         |GM         |draw     |null      |draw            |null     |0                    |B33|2022-07-22 22:33:50|WorldChamp2018 |\n",
            "|3f4eb26e-3cd1-43b0-a451-f1c6146d801d|9         |WCh 2018|London ENG|2018.11.21 |9.0  |Carlsen, Magnus |Caruana, Fabiano|1/2-1/2|2835     |2832     |GM         |GM         |draw     |null      |draw            |null     |0                    |A29|2022-07-22 22:33:50|WorldChamp2018 |\n",
            "+------------------------------------+----------+--------+----------+-----------+-----+----------------+----------------+-------+---------+---------+-----------+-----------+---------+----------+----------------+---------+---------------------+---+-------------------+---------------+\n",
            "only showing top 20 rows\n",
            "\n"
          ]
        }
      ]
    },
    {
      "cell_type": "code",
      "source": [
        "df_game_info.count()"
      ],
      "metadata": {
        "id": "qBcHQ8E_dVF9",
        "colab": {
          "base_uri": "https://localhost:8080/"
        },
        "outputId": "5f2ba299-01ca-4fc4-8583-87d32ee74fd8"
      },
      "execution_count": 14,
      "outputs": [
        {
          "output_type": "execute_result",
          "data": {
            "text/plain": [
              "2938"
            ]
          },
          "metadata": {},
          "execution_count": 14
        }
      ]
    },
    {
      "cell_type": "code",
      "source": [
        "df_moves.show(truncate = False)"
      ],
      "metadata": {
        "id": "RYYeeM6CiqHC",
        "colab": {
          "base_uri": "https://localhost:8080/"
        },
        "outputId": "c06a68e3-5b21-4516-ffe6-597b19993a7c"
      },
      "execution_count": 15,
      "outputs": [
        {
          "output_type": "stream",
          "name": "stdout",
          "text": [
            "+------------------------------------+-------+------------+----------------+--------+----+-----------+---------+-----+-----+----------------------------------------------------------+--------+-------------+--------------+----------------------+------------+------------------------+-----------+-----------+----------------+----------------+-----------------+-----------------+------------------+------------------+------------------+------------------+----------------+----------------+------------------------+------------------------+--------------------+--------------------+--------------------+--------------------+--------------------+--------------------+--------------------+--------------------+--------------------+--------------------+--------------------+--------------------+--------------------+--------------------+--------------------+--------------------+--------------------+--------------------+--------------------+--------------------+--------------------+--------------------+--------------------+--------------------+--------------------+--------------------+--------------------+--------------------+--------------------+--------------------+--------------------+--------------------+-----------------------------------------------------------------------------+\n",
            "|game_id                             |move_no|move_no_pair|player          |notation|move|from_square|to_square|piece|color|fen                                                       |is_check|is_check_mate|is_fifty_moves|is_fivefold_repetition|is_game_over|is_insufficient_material|white_count|black_count|white_pawn_count|black_pawn_count|white_queen_count|black_queen_count|white_bishop_count|black_bishop_count|white_knight_count|black_knight_count|white_rook_count|black_rook_count|captured_score_for_white|captured_score_for_black|fen_row1_white_count|fen_row2_white_count|fen_row3_white_count|fen_row4_white_count|fen_row5_white_count|fen_row6_white_count|fen_row7_white_count|fen_row8_white_count|fen_row1_white_value|fen_row2_white_value|fen_row3_white_value|fen_row4_white_value|fen_row5_white_value|fen_row6_white_value|fen_row7_white_value|fen_row8_white_value|fen_row1_black_count|fen_row2_black_count|fen_row3_black_count|fen_row4_black_count|fen_row5_black_count|fen_row6_black_count|fen_row7_black_count|fen_row8_black_count|fen_row1_black_value|fen_row2_black_value|fen_row3_black_value|fen_row4_black_value|fen_row5_black_value|fen_row6_black_value|fen_row7_black_value|fen_row8_black_value|move_sequence                                                                |\n",
            "+------------------------------------+-------+------------+----------------+--------+----+-----------+---------+-----+-----+----------------------------------------------------------+--------+-------------+--------------+----------------------+------------+------------------------+-----------+-----------+----------------+----------------+-----------------+-----------------+------------------+------------------+------------------+------------------+----------------+----------------+------------------------+------------------------+--------------------+--------------------+--------------------+--------------------+--------------------+--------------------+--------------------+--------------------+--------------------+--------------------+--------------------+--------------------+--------------------+--------------------+--------------------+--------------------+--------------------+--------------------+--------------------+--------------------+--------------------+--------------------+--------------------+--------------------+--------------------+--------------------+--------------------+--------------------+--------------------+--------------------+--------------------+--------------------+-----------------------------------------------------------------------------+\n",
            "|86e0b7f5-7b94-4ae3-97c8-317371622795|1      |1           |Nepomniachtchi,I|e4      |e2e4|e2         |e4       |P    |White|rnbqkbnr/pppppppp/8/8/4P3/8/PPPP1PPP/RNBQKBNR             |0       |0            |0             |0                     |0           |0                       |16         |16         |8               |8               |1                |1                |2                 |2                 |2                 |2                 |2               |2               |0                       |0                       |8                   |7                   |0                   |1                   |0                   |0                   |0                   |0                   |31                  |7                   |0                   |1                   |0                   |0                   |0                   |0                   |0                   |0                   |0                   |0                   |0                   |0                   |8                   |8                   |0                   |0                   |0                   |0                   |0                   |0                   |8                   |31                  |e4                                                                           |\n",
            "|86e0b7f5-7b94-4ae3-97c8-317371622795|2      |1           |Carlsen,M       |e5      |e7e5|e7         |e5       |P    |Black|rnbqkbnr/pppp1ppp/8/4p3/4P3/8/PPPP1PPP/RNBQKBNR           |0       |0            |0             |0                     |0           |0                       |16         |16         |8               |8               |1                |1                |2                 |2                 |2                 |2                 |2               |2               |0                       |0                       |8                   |7                   |0                   |1                   |0                   |0                   |0                   |0                   |31                  |7                   |0                   |1                   |0                   |0                   |0                   |0                   |0                   |0                   |0                   |0                   |1                   |0                   |7                   |8                   |0                   |0                   |0                   |0                   |1                   |0                   |7                   |31                  |e4|e5                                                                        |\n",
            "|86e0b7f5-7b94-4ae3-97c8-317371622795|3      |2           |Nepomniachtchi,I|Nf3     |g1f3|g1         |f3       |N    |White|rnbqkbnr/pppp1ppp/8/4p3/4P3/5N2/PPPP1PPP/RNBQKB1R         |0       |0            |0             |0                     |0           |0                       |16         |16         |8               |8               |1                |1                |2                 |2                 |2                 |2                 |2               |2               |0                       |0                       |7                   |7                   |1                   |1                   |0                   |0                   |0                   |0                   |28                  |7                   |3                   |1                   |0                   |0                   |0                   |0                   |0                   |0                   |0                   |0                   |1                   |0                   |7                   |8                   |0                   |0                   |0                   |0                   |1                   |0                   |7                   |31                  |e4|e5|Nf3                                                                    |\n",
            "|86e0b7f5-7b94-4ae3-97c8-317371622795|4      |2           |Carlsen,M       |Nc6     |b8c6|b8         |c6       |N    |Black|r1bqkbnr/pppp1ppp/2n5/4p3/4P3/5N2/PPPP1PPP/RNBQKB1R       |0       |0            |0             |0                     |0           |0                       |16         |16         |8               |8               |1                |1                |2                 |2                 |2                 |2                 |2               |2               |0                       |0                       |7                   |7                   |1                   |1                   |0                   |0                   |0                   |0                   |28                  |7                   |3                   |1                   |0                   |0                   |0                   |0                   |0                   |0                   |0                   |0                   |1                   |1                   |7                   |7                   |0                   |0                   |0                   |0                   |1                   |3                   |7                   |28                  |e4|e5|Nf3|Nc6                                                                |\n",
            "|86e0b7f5-7b94-4ae3-97c8-317371622795|5      |3           |Nepomniachtchi,I|Bb5     |f1b5|f1         |b5       |B    |White|r1bqkbnr/pppp1ppp/2n5/1B2p3/4P3/5N2/PPPP1PPP/RNBQK2R      |0       |0            |0             |0                     |0           |0                       |16         |16         |8               |8               |1                |1                |2                 |2                 |2                 |2                 |2               |2               |0                       |0                       |6                   |7                   |1                   |1                   |1                   |0                   |0                   |0                   |25                  |7                   |3                   |1                   |3                   |0                   |0                   |0                   |0                   |0                   |0                   |0                   |1                   |1                   |7                   |7                   |0                   |0                   |0                   |0                   |1                   |3                   |7                   |28                  |e4|e5|Nf3|Nc6|Bb5                                                            |\n",
            "|86e0b7f5-7b94-4ae3-97c8-317371622795|6      |3           |Carlsen,M       |a6      |a7a6|a7         |a6       |P    |Black|r1bqkbnr/1ppp1ppp/p1n5/1B2p3/4P3/5N2/PPPP1PPP/RNBQK2R     |0       |0            |0             |0                     |0           |0                       |16         |16         |8               |8               |1                |1                |2                 |2                 |2                 |2                 |2               |2               |0                       |0                       |6                   |7                   |1                   |1                   |1                   |0                   |0                   |0                   |25                  |7                   |3                   |1                   |3                   |0                   |0                   |0                   |0                   |0                   |0                   |0                   |1                   |2                   |6                   |7                   |0                   |0                   |0                   |0                   |1                   |4                   |6                   |28                  |e4|e5|Nf3|Nc6|Bb5|a6                                                         |\n",
            "|86e0b7f5-7b94-4ae3-97c8-317371622795|7      |4           |Nepomniachtchi,I|Ba4     |b5a4|b5         |a4       |B    |White|r1bqkbnr/1ppp1ppp/p1n5/4p3/B3P3/5N2/PPPP1PPP/RNBQK2R      |0       |0            |0             |0                     |0           |0                       |16         |16         |8               |8               |1                |1                |2                 |2                 |2                 |2                 |2               |2               |0                       |0                       |6                   |7                   |1                   |2                   |0                   |0                   |0                   |0                   |25                  |7                   |3                   |4                   |0                   |0                   |0                   |0                   |0                   |0                   |0                   |0                   |1                   |2                   |6                   |7                   |0                   |0                   |0                   |0                   |1                   |4                   |6                   |28                  |e4|e5|Nf3|Nc6|Bb5|a6|Ba4                                                     |\n",
            "|86e0b7f5-7b94-4ae3-97c8-317371622795|8      |4           |Carlsen,M       |Nf6     |g8f6|g8         |f6       |N    |Black|r1bqkb1r/1ppp1ppp/p1n2n2/4p3/B3P3/5N2/PPPP1PPP/RNBQK2R    |0       |0            |0             |0                     |0           |0                       |16         |16         |8               |8               |1                |1                |2                 |2                 |2                 |2                 |2               |2               |0                       |0                       |6                   |7                   |1                   |2                   |0                   |0                   |0                   |0                   |25                  |7                   |3                   |4                   |0                   |0                   |0                   |0                   |0                   |0                   |0                   |0                   |1                   |3                   |6                   |6                   |0                   |0                   |0                   |0                   |1                   |7                   |6                   |25                  |e4|e5|Nf3|Nc6|Bb5|a6|Ba4|Nf6                                                 |\n",
            "|86e0b7f5-7b94-4ae3-97c8-317371622795|9      |5           |Nepomniachtchi,I|O-O     |e1g1|e1         |g1       |K    |White|r1bqkb1r/1ppp1ppp/p1n2n2/4p3/B3P3/5N2/PPPP1PPP/RNBQ1RK1   |0       |0            |0             |0                     |0           |0                       |16         |16         |8               |8               |1                |1                |2                 |2                 |2                 |2                 |2               |2               |0                       |0                       |6                   |7                   |1                   |2                   |0                   |0                   |0                   |0                   |25                  |7                   |3                   |4                   |0                   |0                   |0                   |0                   |0                   |0                   |0                   |0                   |1                   |3                   |6                   |6                   |0                   |0                   |0                   |0                   |1                   |7                   |6                   |25                  |e4|e5|Nf3|Nc6|Bb5|a6|Ba4|Nf6|O-O                                             |\n",
            "|86e0b7f5-7b94-4ae3-97c8-317371622795|10     |5           |Carlsen,M       |Be7     |f8e7|f8         |e7       |B    |Black|r1bqk2r/1pppbppp/p1n2n2/4p3/B3P3/5N2/PPPP1PPP/RNBQ1RK1    |0       |0            |0             |0                     |0           |0                       |16         |16         |8               |8               |1                |1                |2                 |2                 |2                 |2                 |2               |2               |0                       |0                       |6                   |7                   |1                   |2                   |0                   |0                   |0                   |0                   |25                  |7                   |3                   |4                   |0                   |0                   |0                   |0                   |0                   |0                   |0                   |0                   |1                   |3                   |7                   |5                   |0                   |0                   |0                   |0                   |1                   |7                   |9                   |22                  |e4|e5|Nf3|Nc6|Bb5|a6|Ba4|Nf6|O-O|Be7                                         |\n",
            "|86e0b7f5-7b94-4ae3-97c8-317371622795|11     |6           |Nepomniachtchi,I|Re1     |f1e1|f1         |e1       |R    |White|r1bqk2r/1pppbppp/p1n2n2/4p3/B3P3/5N2/PPPP1PPP/RNBQR1K1    |0       |0            |0             |0                     |0           |0                       |16         |16         |8               |8               |1                |1                |2                 |2                 |2                 |2                 |2               |2               |0                       |0                       |6                   |7                   |1                   |2                   |0                   |0                   |0                   |0                   |25                  |7                   |3                   |4                   |0                   |0                   |0                   |0                   |0                   |0                   |0                   |0                   |1                   |3                   |7                   |5                   |0                   |0                   |0                   |0                   |1                   |7                   |9                   |22                  |e4|e5|Nf3|Nc6|Bb5|a6|Ba4|Nf6|O-O|Be7|Re1                                     |\n",
            "|86e0b7f5-7b94-4ae3-97c8-317371622795|12     |6           |Carlsen,M       |b5      |b7b5|b7         |b5       |P    |Black|r1bqk2r/2ppbppp/p1n2n2/1p2p3/B3P3/5N2/PPPP1PPP/RNBQR1K1   |0       |0            |0             |0                     |0           |0                       |16         |16         |8               |8               |1                |1                |2                 |2                 |2                 |2                 |2               |2               |0                       |0                       |6                   |7                   |1                   |2                   |0                   |0                   |0                   |0                   |25                  |7                   |3                   |4                   |0                   |0                   |0                   |0                   |0                   |0                   |0                   |0                   |2                   |3                   |6                   |5                   |0                   |0                   |0                   |0                   |2                   |7                   |8                   |22                  |e4|e5|Nf3|Nc6|Bb5|a6|Ba4|Nf6|O-O|Be7|Re1|b5                                  |\n",
            "|86e0b7f5-7b94-4ae3-97c8-317371622795|13     |7           |Nepomniachtchi,I|Bb3     |a4b3|a4         |b3       |B    |White|r1bqk2r/2ppbppp/p1n2n2/1p2p3/4P3/1B3N2/PPPP1PPP/RNBQR1K1  |0       |0            |0             |0                     |0           |0                       |16         |16         |8               |8               |1                |1                |2                 |2                 |2                 |2                 |2               |2               |0                       |0                       |6                   |7                   |2                   |1                   |0                   |0                   |0                   |0                   |25                  |7                   |6                   |1                   |0                   |0                   |0                   |0                   |0                   |0                   |0                   |0                   |2                   |3                   |6                   |5                   |0                   |0                   |0                   |0                   |2                   |7                   |8                   |22                  |e4|e5|Nf3|Nc6|Bb5|a6|Ba4|Nf6|O-O|Be7|Re1|b5|Bb3                              |\n",
            "|86e0b7f5-7b94-4ae3-97c8-317371622795|14     |7           |Carlsen,M       |O-O     |e8g8|e8         |g8       |K    |Black|r1bq1rk1/2ppbppp/p1n2n2/1p2p3/4P3/1B3N2/PPPP1PPP/RNBQR1K1 |0       |0            |0             |0                     |0           |0                       |16         |16         |8               |8               |1                |1                |2                 |2                 |2                 |2                 |2               |2               |0                       |0                       |6                   |7                   |2                   |1                   |0                   |0                   |0                   |0                   |25                  |7                   |6                   |1                   |0                   |0                   |0                   |0                   |0                   |0                   |0                   |0                   |2                   |3                   |6                   |5                   |0                   |0                   |0                   |0                   |2                   |7                   |8                   |22                  |e4|e5|Nf3|Nc6|Bb5|a6|Ba4|Nf6|O-O|Be7|Re1|b5|Bb3|O-O                          |\n",
            "|86e0b7f5-7b94-4ae3-97c8-317371622795|15     |8           |Nepomniachtchi,I|h3      |h2h3|h2         |h3       |P    |White|r1bq1rk1/2ppbppp/p1n2n2/1p2p3/4P3/1B3N1P/PPPP1PP1/RNBQR1K1|0       |0            |0             |0                     |0           |0                       |16         |16         |8               |8               |1                |1                |2                 |2                 |2                 |2                 |2               |2               |0                       |0                       |6                   |6                   |3                   |1                   |0                   |0                   |0                   |0                   |25                  |6                   |7                   |1                   |0                   |0                   |0                   |0                   |0                   |0                   |0                   |0                   |2                   |3                   |6                   |5                   |0                   |0                   |0                   |0                   |2                   |7                   |8                   |22                  |e4|e5|Nf3|Nc6|Bb5|a6|Ba4|Nf6|O-O|Be7|Re1|b5|Bb3|O-O|h3                       |\n",
            "|86e0b7f5-7b94-4ae3-97c8-317371622795|16     |8           |Carlsen,M       |Na5     |c6a5|c6         |a5       |N    |Black|r1bq1rk1/2ppbppp/p4n2/np2p3/4P3/1B3N1P/PPPP1PP1/RNBQR1K1  |0       |0            |0             |0                     |0           |0                       |16         |16         |8               |8               |1                |1                |2                 |2                 |2                 |2                 |2               |2               |0                       |0                       |6                   |6                   |3                   |1                   |0                   |0                   |0                   |0                   |25                  |6                   |7                   |1                   |0                   |0                   |0                   |0                   |0                   |0                   |0                   |0                   |3                   |2                   |6                   |5                   |0                   |0                   |0                   |0                   |5                   |4                   |8                   |22                  |e4|e5|Nf3|Nc6|Bb5|a6|Ba4|Nf6|O-O|Be7|Re1|b5|Bb3|O-O|h3|Na5                   |\n",
            "|86e0b7f5-7b94-4ae3-97c8-317371622795|17     |9           |Nepomniachtchi,I|Nxe5    |f3e5|f3         |e5       |N    |White|r1bq1rk1/2ppbppp/p4n2/np2N3/4P3/1B5P/PPPP1PP1/RNBQR1K1    |0       |0            |0             |0                     |0           |0                       |16         |15         |8               |7               |1                |1                |2                 |2                 |2                 |2                 |2               |2               |1                       |0                       |6                   |6                   |2                   |1                   |1                   |0                   |0                   |0                   |25                  |6                   |4                   |1                   |3                   |0                   |0                   |0                   |0                   |0                   |0                   |0                   |2                   |2                   |6                   |5                   |0                   |0                   |0                   |0                   |4                   |4                   |8                   |22                  |e4|e5|Nf3|Nc6|Bb5|a6|Ba4|Nf6|O-O|Be7|Re1|b5|Bb3|O-O|h3|Na5|Nxe5              |\n",
            "|86e0b7f5-7b94-4ae3-97c8-317371622795|18     |9           |Carlsen,M       |Nxb3    |a5b3|a5         |b3       |N    |Black|r1bq1rk1/2ppbppp/p4n2/1p2N3/4P3/1n5P/PPPP1PP1/RNBQR1K1    |0       |0            |0             |0                     |0           |0                       |15         |15         |8               |7               |1                |1                |1                 |2                 |2                 |2                 |2               |2               |1                       |3                       |6                   |6                   |1                   |1                   |1                   |0                   |0                   |0                   |25                  |6                   |1                   |1                   |3                   |0                   |0                   |0                   |0                   |0                   |1                   |0                   |1                   |2                   |6                   |5                   |0                   |0                   |3                   |0                   |1                   |4                   |8                   |22                  |e4|e5|Nf3|Nc6|Bb5|a6|Ba4|Nf6|O-O|Be7|Re1|b5|Bb3|O-O|h3|Na5|Nxe5|Nxb3         |\n",
            "|86e0b7f5-7b94-4ae3-97c8-317371622795|19     |10          |Nepomniachtchi,I|axb3    |a2b3|a2         |b3       |P    |White|r1bq1rk1/2ppbppp/p4n2/1p2N3/4P3/1P5P/1PPP1PP1/RNBQR1K1    |0       |0            |0             |0                     |0           |0                       |15         |14         |8               |7               |1                |1                |1                 |2                 |2                 |1                 |2               |2               |4                       |3                       |6                   |5                   |2                   |1                   |1                   |0                   |0                   |0                   |25                  |5                   |2                   |1                   |3                   |0                   |0                   |0                   |0                   |0                   |0                   |0                   |1                   |2                   |6                   |5                   |0                   |0                   |0                   |0                   |1                   |4                   |8                   |22                  |e4|e5|Nf3|Nc6|Bb5|a6|Ba4|Nf6|O-O|Be7|Re1|b5|Bb3|O-O|h3|Na5|Nxe5|Nxb3|axb3    |\n",
            "|86e0b7f5-7b94-4ae3-97c8-317371622795|20     |10          |Carlsen,M       |Bb7     |c8b7|c8         |b7       |B    |Black|r2q1rk1/1bppbppp/p4n2/1p2N3/4P3/1P5P/1PPP1PP1/RNBQR1K1    |0       |0            |0             |0                     |0           |0                       |15         |14         |8               |7               |1                |1                |1                 |2                 |2                 |1                 |2               |2               |4                       |3                       |6                   |5                   |2                   |1                   |1                   |0                   |0                   |0                   |25                  |5                   |2                   |1                   |3                   |0                   |0                   |0                   |0                   |0                   |0                   |0                   |1                   |2                   |7                   |4                   |0                   |0                   |0                   |0                   |1                   |4                   |11                  |19                  |e4|e5|Nf3|Nc6|Bb5|a6|Ba4|Nf6|O-O|Be7|Re1|b5|Bb3|O-O|h3|Na5|Nxe5|Nxb3|axb3|Bb7|\n",
            "+------------------------------------+-------+------------+----------------+--------+----+-----------+---------+-----+-----+----------------------------------------------------------+--------+-------------+--------------+----------------------+------------+------------------------+-----------+-----------+----------------+----------------+-----------------+-----------------+------------------+------------------+------------------+------------------+----------------+----------------+------------------------+------------------------+--------------------+--------------------+--------------------+--------------------+--------------------+--------------------+--------------------+--------------------+--------------------+--------------------+--------------------+--------------------+--------------------+--------------------+--------------------+--------------------+--------------------+--------------------+--------------------+--------------------+--------------------+--------------------+--------------------+--------------------+--------------------+--------------------+--------------------+--------------------+--------------------+--------------------+--------------------+--------------------+-----------------------------------------------------------------------------+\n",
            "only showing top 20 rows\n",
            "\n"
          ]
        }
      ]
    },
    {
      "cell_type": "code",
      "source": [
        "df_moves.count()"
      ],
      "metadata": {
        "id": "695r2PnOdjwq",
        "colab": {
          "base_uri": "https://localhost:8080/"
        },
        "outputId": "e43108cb-d987-43c0-a011-c7af7f60b161"
      },
      "execution_count": 16,
      "outputs": [
        {
          "output_type": "execute_result",
          "data": {
            "text/plain": [
              "252948"
            ]
          },
          "metadata": {},
          "execution_count": 16
        }
      ]
    },
    {
      "cell_type": "markdown",
      "source": [
        "Joining all three tables"
      ],
      "metadata": {
        "id": "isP3ReoNLdF6"
      }
    },
    {
      "cell_type": "code",
      "source": [
        "df_final = df_moves.join(df_game_info, df_moves.game_id == df_game_info.game_id, \"left\")\\\n",
        "          .join(df_codes, df_codes.eco == df_game_info.eco, \"left\").drop(df_codes.eco).drop(df_moves.game_id)"
      ],
      "metadata": {
        "id": "ibgJDdb7IDTI"
      },
      "execution_count": 17,
      "outputs": []
    },
    {
      "cell_type": "markdown",
      "source": [
        "# Creating New Directory in Drive"
      ],
      "metadata": {
        "id": "G7XEqdF3q60E"
      }
    },
    {
      "cell_type": "code",
      "source": [
        "os.chdir(\"/content/drive/MyDrive\")\n",
        "os.mkdir(\"DE_SOLUTION_Tushar_Sonp\")\n",
        "os.chdir(\"/content/drive/MyDrive/DE_SOLUTION_Tushar_Sonp\")\n",
        "os.mkdir(\"results\")\n",
        "os.chdir(\"/content/drive/MyDrive/DE_SOLUTION_Tushar_Sonp/results\")"
      ],
      "metadata": {
        "id": "5QvzxWFwq6kT"
      },
      "execution_count": 18,
      "outputs": []
    },
    {
      "cell_type": "code",
      "source": [
        "os.getcwd()"
      ],
      "metadata": {
        "colab": {
          "base_uri": "https://localhost:8080/",
          "height": 36
        },
        "id": "PUxY1MGasT1b",
        "outputId": "9330e5ac-0176-4ccd-9e0a-54fcf94933b6"
      },
      "execution_count": 19,
      "outputs": [
        {
          "output_type": "execute_result",
          "data": {
            "text/plain": [
              "'/content/drive/MyDrive/DE_SOLUTION_Tushar_Sonp/results'"
            ],
            "application/vnd.google.colaboratory.intrinsic+json": {
              "type": "string"
            }
          },
          "metadata": {},
          "execution_count": 19
        }
      ]
    },
    {
      "cell_type": "markdown",
      "source": [
        "# 1. List of Winners of Each World champions Trophy \n",
        "Hint: Total Result of all rounds of Tournament for that player is considered as that player's\n",
        "Score/Result.\n",
        "Result attributes: winner, tournament_name"
      ],
      "metadata": {
        "id": "cI1Af0Hdr7hr"
      }
    },
    {
      "cell_type": "code",
      "source": [
        "def winner_of_each_world(dataframe):\n",
        "  try:\n",
        "    a = dataframe.groupBy(\"winner\", \"tournament_name\").agg(count(\"*\").alias(\"result\")).filter(df_game_info.winner != \"draw\")\n",
        "    b = a.groupBy(\"tournament_name\").agg(max(\"result\").alias(\"f_result\"))\n",
        "\n",
        "    result_df = b.join(a, (a.tournament_name == b.tournament_name)&(b.f_result == a.result), \"left\")\\\n",
        "    .drop(a.tournament_name).select(\"winner\", \"tournament_name\")\n",
        "\n",
        "    result_df = result_df.toPandas()\n",
        "    result_df.to_csv(\"df1.csv\")\n",
        "\n",
        "    return result_df\n",
        "\n",
        "  except Exception as e:\n",
        "    print(e)\n",
        "    return e"
      ],
      "metadata": {
        "id": "jiutolFeLmUl"
      },
      "execution_count": 20,
      "outputs": []
    },
    {
      "cell_type": "code",
      "source": [
        "winner_of_each_world(df_game_info).head()"
      ],
      "metadata": {
        "colab": {
          "base_uri": "https://localhost:8080/",
          "height": 206
        },
        "id": "OtNwnEnlMT3P",
        "outputId": "f43acc4d-2ef2-40aa-8ea5-965bf4455436"
      },
      "execution_count": 21,
      "outputs": [
        {
          "output_type": "execute_result",
          "data": {
            "text/plain": [
              "            winner tournament_name\n",
              "0        Kramnik,V  WorldChamp2004\n",
              "1           Leko,P  WorldChamp2004\n",
              "2  Lasker, Emanuel  WorldChamp1894\n",
              "3  Carlsen, Magnus  WorldChamp2013\n",
              "4          Anand,V   FideChamp2000"
            ],
            "text/html": [
              "\n",
              "  <div id=\"df-33ea3d9e-7c81-48de-ac0d-bf1eb24113b7\">\n",
              "    <div class=\"colab-df-container\">\n",
              "      <div>\n",
              "<style scoped>\n",
              "    .dataframe tbody tr th:only-of-type {\n",
              "        vertical-align: middle;\n",
              "    }\n",
              "\n",
              "    .dataframe tbody tr th {\n",
              "        vertical-align: top;\n",
              "    }\n",
              "\n",
              "    .dataframe thead th {\n",
              "        text-align: right;\n",
              "    }\n",
              "</style>\n",
              "<table border=\"1\" class=\"dataframe\">\n",
              "  <thead>\n",
              "    <tr style=\"text-align: right;\">\n",
              "      <th></th>\n",
              "      <th>winner</th>\n",
              "      <th>tournament_name</th>\n",
              "    </tr>\n",
              "  </thead>\n",
              "  <tbody>\n",
              "    <tr>\n",
              "      <th>0</th>\n",
              "      <td>Kramnik,V</td>\n",
              "      <td>WorldChamp2004</td>\n",
              "    </tr>\n",
              "    <tr>\n",
              "      <th>1</th>\n",
              "      <td>Leko,P</td>\n",
              "      <td>WorldChamp2004</td>\n",
              "    </tr>\n",
              "    <tr>\n",
              "      <th>2</th>\n",
              "      <td>Lasker, Emanuel</td>\n",
              "      <td>WorldChamp1894</td>\n",
              "    </tr>\n",
              "    <tr>\n",
              "      <th>3</th>\n",
              "      <td>Carlsen, Magnus</td>\n",
              "      <td>WorldChamp2013</td>\n",
              "    </tr>\n",
              "    <tr>\n",
              "      <th>4</th>\n",
              "      <td>Anand,V</td>\n",
              "      <td>FideChamp2000</td>\n",
              "    </tr>\n",
              "  </tbody>\n",
              "</table>\n",
              "</div>\n",
              "      <button class=\"colab-df-convert\" onclick=\"convertToInteractive('df-33ea3d9e-7c81-48de-ac0d-bf1eb24113b7')\"\n",
              "              title=\"Convert this dataframe to an interactive table.\"\n",
              "              style=\"display:none;\">\n",
              "        \n",
              "  <svg xmlns=\"http://www.w3.org/2000/svg\" height=\"24px\"viewBox=\"0 0 24 24\"\n",
              "       width=\"24px\">\n",
              "    <path d=\"M0 0h24v24H0V0z\" fill=\"none\"/>\n",
              "    <path d=\"M18.56 5.44l.94 2.06.94-2.06 2.06-.94-2.06-.94-.94-2.06-.94 2.06-2.06.94zm-11 1L8.5 8.5l.94-2.06 2.06-.94-2.06-.94L8.5 2.5l-.94 2.06-2.06.94zm10 10l.94 2.06.94-2.06 2.06-.94-2.06-.94-.94-2.06-.94 2.06-2.06.94z\"/><path d=\"M17.41 7.96l-1.37-1.37c-.4-.4-.92-.59-1.43-.59-.52 0-1.04.2-1.43.59L10.3 9.45l-7.72 7.72c-.78.78-.78 2.05 0 2.83L4 21.41c.39.39.9.59 1.41.59.51 0 1.02-.2 1.41-.59l7.78-7.78 2.81-2.81c.8-.78.8-2.07 0-2.86zM5.41 20L4 18.59l7.72-7.72 1.47 1.35L5.41 20z\"/>\n",
              "  </svg>\n",
              "      </button>\n",
              "      \n",
              "  <style>\n",
              "    .colab-df-container {\n",
              "      display:flex;\n",
              "      flex-wrap:wrap;\n",
              "      gap: 12px;\n",
              "    }\n",
              "\n",
              "    .colab-df-convert {\n",
              "      background-color: #E8F0FE;\n",
              "      border: none;\n",
              "      border-radius: 50%;\n",
              "      cursor: pointer;\n",
              "      display: none;\n",
              "      fill: #1967D2;\n",
              "      height: 32px;\n",
              "      padding: 0 0 0 0;\n",
              "      width: 32px;\n",
              "    }\n",
              "\n",
              "    .colab-df-convert:hover {\n",
              "      background-color: #E2EBFA;\n",
              "      box-shadow: 0px 1px 2px rgba(60, 64, 67, 0.3), 0px 1px 3px 1px rgba(60, 64, 67, 0.15);\n",
              "      fill: #174EA6;\n",
              "    }\n",
              "\n",
              "    [theme=dark] .colab-df-convert {\n",
              "      background-color: #3B4455;\n",
              "      fill: #D2E3FC;\n",
              "    }\n",
              "\n",
              "    [theme=dark] .colab-df-convert:hover {\n",
              "      background-color: #434B5C;\n",
              "      box-shadow: 0px 1px 3px 1px rgba(0, 0, 0, 0.15);\n",
              "      filter: drop-shadow(0px 1px 2px rgba(0, 0, 0, 0.3));\n",
              "      fill: #FFFFFF;\n",
              "    }\n",
              "  </style>\n",
              "\n",
              "      <script>\n",
              "        const buttonEl =\n",
              "          document.querySelector('#df-33ea3d9e-7c81-48de-ac0d-bf1eb24113b7 button.colab-df-convert');\n",
              "        buttonEl.style.display =\n",
              "          google.colab.kernel.accessAllowed ? 'block' : 'none';\n",
              "\n",
              "        async function convertToInteractive(key) {\n",
              "          const element = document.querySelector('#df-33ea3d9e-7c81-48de-ac0d-bf1eb24113b7');\n",
              "          const dataTable =\n",
              "            await google.colab.kernel.invokeFunction('convertToInteractive',\n",
              "                                                     [key], {});\n",
              "          if (!dataTable) return;\n",
              "\n",
              "          const docLinkHtml = 'Like what you see? Visit the ' +\n",
              "            '<a target=\"_blank\" href=https://colab.research.google.com/notebooks/data_table.ipynb>data table notebook</a>'\n",
              "            + ' to learn more about interactive tables.';\n",
              "          element.innerHTML = '';\n",
              "          dataTable['output_type'] = 'display_data';\n",
              "          await google.colab.output.renderOutput(dataTable, element);\n",
              "          const docLink = document.createElement('div');\n",
              "          docLink.innerHTML = docLinkHtml;\n",
              "          element.appendChild(docLink);\n",
              "        }\n",
              "      </script>\n",
              "    </div>\n",
              "  </div>\n",
              "  "
            ]
          },
          "metadata": {},
          "execution_count": 21
        }
      ]
    },
    {
      "cell_type": "markdown",
      "source": [
        "# 2. List of Players with number of times they have won Tournament in descending order(Max to min).\n",
        "Result attributes: player_name, number_of_wins"
      ],
      "metadata": {
        "id": "YClr3WJBS3g_"
      }
    },
    {
      "cell_type": "code",
      "source": [
        "def players_no_time_won_tournament(dataframe):\n",
        "  try:\n",
        "    result_df = dataframe.filter(dataframe.winner != \"draw\").select(\"player\")\\\n",
        "    .groupBy(dataframe.player).agg(count(\"*\").alias(\"number_of_wins\"))\\\n",
        "    .orderBy(\"number_of_wins\", ascending = False)\n",
        "    \n",
        "    result_df = result_df.toPandas()\n",
        "    result_df.to_csv(\"df2.csv\")\n",
        "\n",
        "    return result_df\n",
        "  \n",
        "  except Exception as e:\n",
        "    print(e)"
      ],
      "metadata": {
        "id": "ryXXWUQXPvRd"
      },
      "execution_count": 22,
      "outputs": []
    },
    {
      "cell_type": "code",
      "source": [
        "players_no_time_won_tournament(df_final).head()"
      ],
      "metadata": {
        "colab": {
          "base_uri": "https://localhost:8080/",
          "height": 206
        },
        "id": "i6lmnsdsRlmF",
        "outputId": "953be20c-69dd-4c92-bdb0-9d715ac6d0f9"
      },
      "execution_count": 23,
      "outputs": [
        {
          "output_type": "execute_result",
          "data": {
            "text/plain": [
              "                player  number_of_wins\n",
              "0   Botvinnik, Mikhail            4072\n",
              "1      Karpov, Anatoly            3974\n",
              "2    Steinitz, William            3699\n",
              "3      Lasker, Emanuel            3264\n",
              "4  Alekhine, Alexander            3134"
            ],
            "text/html": [
              "\n",
              "  <div id=\"df-96898875-63d0-4410-b84e-6f34e4a3dd76\">\n",
              "    <div class=\"colab-df-container\">\n",
              "      <div>\n",
              "<style scoped>\n",
              "    .dataframe tbody tr th:only-of-type {\n",
              "        vertical-align: middle;\n",
              "    }\n",
              "\n",
              "    .dataframe tbody tr th {\n",
              "        vertical-align: top;\n",
              "    }\n",
              "\n",
              "    .dataframe thead th {\n",
              "        text-align: right;\n",
              "    }\n",
              "</style>\n",
              "<table border=\"1\" class=\"dataframe\">\n",
              "  <thead>\n",
              "    <tr style=\"text-align: right;\">\n",
              "      <th></th>\n",
              "      <th>player</th>\n",
              "      <th>number_of_wins</th>\n",
              "    </tr>\n",
              "  </thead>\n",
              "  <tbody>\n",
              "    <tr>\n",
              "      <th>0</th>\n",
              "      <td>Botvinnik, Mikhail</td>\n",
              "      <td>4072</td>\n",
              "    </tr>\n",
              "    <tr>\n",
              "      <th>1</th>\n",
              "      <td>Karpov, Anatoly</td>\n",
              "      <td>3974</td>\n",
              "    </tr>\n",
              "    <tr>\n",
              "      <th>2</th>\n",
              "      <td>Steinitz, William</td>\n",
              "      <td>3699</td>\n",
              "    </tr>\n",
              "    <tr>\n",
              "      <th>3</th>\n",
              "      <td>Lasker, Emanuel</td>\n",
              "      <td>3264</td>\n",
              "    </tr>\n",
              "    <tr>\n",
              "      <th>4</th>\n",
              "      <td>Alekhine, Alexander</td>\n",
              "      <td>3134</td>\n",
              "    </tr>\n",
              "  </tbody>\n",
              "</table>\n",
              "</div>\n",
              "      <button class=\"colab-df-convert\" onclick=\"convertToInteractive('df-96898875-63d0-4410-b84e-6f34e4a3dd76')\"\n",
              "              title=\"Convert this dataframe to an interactive table.\"\n",
              "              style=\"display:none;\">\n",
              "        \n",
              "  <svg xmlns=\"http://www.w3.org/2000/svg\" height=\"24px\"viewBox=\"0 0 24 24\"\n",
              "       width=\"24px\">\n",
              "    <path d=\"M0 0h24v24H0V0z\" fill=\"none\"/>\n",
              "    <path d=\"M18.56 5.44l.94 2.06.94-2.06 2.06-.94-2.06-.94-.94-2.06-.94 2.06-2.06.94zm-11 1L8.5 8.5l.94-2.06 2.06-.94-2.06-.94L8.5 2.5l-.94 2.06-2.06.94zm10 10l.94 2.06.94-2.06 2.06-.94-2.06-.94-.94-2.06-.94 2.06-2.06.94z\"/><path d=\"M17.41 7.96l-1.37-1.37c-.4-.4-.92-.59-1.43-.59-.52 0-1.04.2-1.43.59L10.3 9.45l-7.72 7.72c-.78.78-.78 2.05 0 2.83L4 21.41c.39.39.9.59 1.41.59.51 0 1.02-.2 1.41-.59l7.78-7.78 2.81-2.81c.8-.78.8-2.07 0-2.86zM5.41 20L4 18.59l7.72-7.72 1.47 1.35L5.41 20z\"/>\n",
              "  </svg>\n",
              "      </button>\n",
              "      \n",
              "  <style>\n",
              "    .colab-df-container {\n",
              "      display:flex;\n",
              "      flex-wrap:wrap;\n",
              "      gap: 12px;\n",
              "    }\n",
              "\n",
              "    .colab-df-convert {\n",
              "      background-color: #E8F0FE;\n",
              "      border: none;\n",
              "      border-radius: 50%;\n",
              "      cursor: pointer;\n",
              "      display: none;\n",
              "      fill: #1967D2;\n",
              "      height: 32px;\n",
              "      padding: 0 0 0 0;\n",
              "      width: 32px;\n",
              "    }\n",
              "\n",
              "    .colab-df-convert:hover {\n",
              "      background-color: #E2EBFA;\n",
              "      box-shadow: 0px 1px 2px rgba(60, 64, 67, 0.3), 0px 1px 3px 1px rgba(60, 64, 67, 0.15);\n",
              "      fill: #174EA6;\n",
              "    }\n",
              "\n",
              "    [theme=dark] .colab-df-convert {\n",
              "      background-color: #3B4455;\n",
              "      fill: #D2E3FC;\n",
              "    }\n",
              "\n",
              "    [theme=dark] .colab-df-convert:hover {\n",
              "      background-color: #434B5C;\n",
              "      box-shadow: 0px 1px 3px 1px rgba(0, 0, 0, 0.15);\n",
              "      filter: drop-shadow(0px 1px 2px rgba(0, 0, 0, 0.3));\n",
              "      fill: #FFFFFF;\n",
              "    }\n",
              "  </style>\n",
              "\n",
              "      <script>\n",
              "        const buttonEl =\n",
              "          document.querySelector('#df-96898875-63d0-4410-b84e-6f34e4a3dd76 button.colab-df-convert');\n",
              "        buttonEl.style.display =\n",
              "          google.colab.kernel.accessAllowed ? 'block' : 'none';\n",
              "\n",
              "        async function convertToInteractive(key) {\n",
              "          const element = document.querySelector('#df-96898875-63d0-4410-b84e-6f34e4a3dd76');\n",
              "          const dataTable =\n",
              "            await google.colab.kernel.invokeFunction('convertToInteractive',\n",
              "                                                     [key], {});\n",
              "          if (!dataTable) return;\n",
              "\n",
              "          const docLinkHtml = 'Like what you see? Visit the ' +\n",
              "            '<a target=\"_blank\" href=https://colab.research.google.com/notebooks/data_table.ipynb>data table notebook</a>'\n",
              "            + ' to learn more about interactive tables.';\n",
              "          element.innerHTML = '';\n",
              "          dataTable['output_type'] = 'display_data';\n",
              "          await google.colab.output.renderOutput(dataTable, element);\n",
              "          const docLink = document.createElement('div');\n",
              "          docLink.innerHTML = docLinkHtml;\n",
              "          element.appendChild(docLink);\n",
              "        }\n",
              "      </script>\n",
              "    </div>\n",
              "  </div>\n",
              "  "
            ]
          },
          "metadata": {},
          "execution_count": 23
        }
      ]
    },
    {
      "cell_type": "markdown",
      "source": [
        "# 3. Most and Least Popular eco move in world championship history.\n",
        "Result attributes: eco, eco_name, number_of_occurences\n",
        "Final result will have only two rows"
      ],
      "metadata": {
        "id": "wQ4ERxmqTWDk"
      }
    },
    {
      "cell_type": "code",
      "source": [
        "def M_L_popular_eco_move(dataframe):\n",
        "  try:\n",
        "    df1 = dataframe.groupBy(\"eco\",\"eco_name\").agg(count(\"*\").alias(\"number_of_occurences\")).orderBy(\"number_of_occurences\", ascending = False).limit(1)\n",
        "    df2 = dataframe.groupBy(\"eco\",\"eco_name\").agg(count(\"*\").alias(\"number_of_occurences\")).orderBy(\"number_of_occurences\").limit(1)\n",
        "    result_df = df1.unionAll(df2)\n",
        "    \n",
        "    result_df = result_df.toPandas()\n",
        "    result_df.to_csv(\"df3.csv\")\n",
        "\n",
        "    return result_df\n",
        "  \n",
        "  except Exception as e:\n",
        "    print(e)"
      ],
      "metadata": {
        "id": "0oDnhZS5SuZ_"
      },
      "execution_count": 24,
      "outputs": []
    },
    {
      "cell_type": "code",
      "source": [
        "M_L_popular_eco_move(df_final).head()"
      ],
      "metadata": {
        "colab": {
          "base_uri": "https://localhost:8080/",
          "height": 112
        },
        "id": "eNm09FaiTxZY",
        "outputId": "1e18df2b-e767-4a2d-8e31-4489db173df2"
      },
      "execution_count": 25,
      "outputs": [
        {
          "output_type": "execute_result",
          "data": {
            "text/plain": [
              "   eco                                           eco_name  \\\n",
              "0  C42                                     Petrov Defense   \n",
              "1  D54  Queen's Gambit Declined, Anti-Neo-Orthodox Var...   \n",
              "\n",
              "   number_of_occurences  \n",
              "0                  5599  \n",
              "1                    30  "
            ],
            "text/html": [
              "\n",
              "  <div id=\"df-aa311758-9c08-4a4a-833e-c47fa5ca7278\">\n",
              "    <div class=\"colab-df-container\">\n",
              "      <div>\n",
              "<style scoped>\n",
              "    .dataframe tbody tr th:only-of-type {\n",
              "        vertical-align: middle;\n",
              "    }\n",
              "\n",
              "    .dataframe tbody tr th {\n",
              "        vertical-align: top;\n",
              "    }\n",
              "\n",
              "    .dataframe thead th {\n",
              "        text-align: right;\n",
              "    }\n",
              "</style>\n",
              "<table border=\"1\" class=\"dataframe\">\n",
              "  <thead>\n",
              "    <tr style=\"text-align: right;\">\n",
              "      <th></th>\n",
              "      <th>eco</th>\n",
              "      <th>eco_name</th>\n",
              "      <th>number_of_occurences</th>\n",
              "    </tr>\n",
              "  </thead>\n",
              "  <tbody>\n",
              "    <tr>\n",
              "      <th>0</th>\n",
              "      <td>C42</td>\n",
              "      <td>Petrov Defense</td>\n",
              "      <td>5599</td>\n",
              "    </tr>\n",
              "    <tr>\n",
              "      <th>1</th>\n",
              "      <td>D54</td>\n",
              "      <td>Queen's Gambit Declined, Anti-Neo-Orthodox Var...</td>\n",
              "      <td>30</td>\n",
              "    </tr>\n",
              "  </tbody>\n",
              "</table>\n",
              "</div>\n",
              "      <button class=\"colab-df-convert\" onclick=\"convertToInteractive('df-aa311758-9c08-4a4a-833e-c47fa5ca7278')\"\n",
              "              title=\"Convert this dataframe to an interactive table.\"\n",
              "              style=\"display:none;\">\n",
              "        \n",
              "  <svg xmlns=\"http://www.w3.org/2000/svg\" height=\"24px\"viewBox=\"0 0 24 24\"\n",
              "       width=\"24px\">\n",
              "    <path d=\"M0 0h24v24H0V0z\" fill=\"none\"/>\n",
              "    <path d=\"M18.56 5.44l.94 2.06.94-2.06 2.06-.94-2.06-.94-.94-2.06-.94 2.06-2.06.94zm-11 1L8.5 8.5l.94-2.06 2.06-.94-2.06-.94L8.5 2.5l-.94 2.06-2.06.94zm10 10l.94 2.06.94-2.06 2.06-.94-2.06-.94-.94-2.06-.94 2.06-2.06.94z\"/><path d=\"M17.41 7.96l-1.37-1.37c-.4-.4-.92-.59-1.43-.59-.52 0-1.04.2-1.43.59L10.3 9.45l-7.72 7.72c-.78.78-.78 2.05 0 2.83L4 21.41c.39.39.9.59 1.41.59.51 0 1.02-.2 1.41-.59l7.78-7.78 2.81-2.81c.8-.78.8-2.07 0-2.86zM5.41 20L4 18.59l7.72-7.72 1.47 1.35L5.41 20z\"/>\n",
              "  </svg>\n",
              "      </button>\n",
              "      \n",
              "  <style>\n",
              "    .colab-df-container {\n",
              "      display:flex;\n",
              "      flex-wrap:wrap;\n",
              "      gap: 12px;\n",
              "    }\n",
              "\n",
              "    .colab-df-convert {\n",
              "      background-color: #E8F0FE;\n",
              "      border: none;\n",
              "      border-radius: 50%;\n",
              "      cursor: pointer;\n",
              "      display: none;\n",
              "      fill: #1967D2;\n",
              "      height: 32px;\n",
              "      padding: 0 0 0 0;\n",
              "      width: 32px;\n",
              "    }\n",
              "\n",
              "    .colab-df-convert:hover {\n",
              "      background-color: #E2EBFA;\n",
              "      box-shadow: 0px 1px 2px rgba(60, 64, 67, 0.3), 0px 1px 3px 1px rgba(60, 64, 67, 0.15);\n",
              "      fill: #174EA6;\n",
              "    }\n",
              "\n",
              "    [theme=dark] .colab-df-convert {\n",
              "      background-color: #3B4455;\n",
              "      fill: #D2E3FC;\n",
              "    }\n",
              "\n",
              "    [theme=dark] .colab-df-convert:hover {\n",
              "      background-color: #434B5C;\n",
              "      box-shadow: 0px 1px 3px 1px rgba(0, 0, 0, 0.15);\n",
              "      filter: drop-shadow(0px 1px 2px rgba(0, 0, 0, 0.3));\n",
              "      fill: #FFFFFF;\n",
              "    }\n",
              "  </style>\n",
              "\n",
              "      <script>\n",
              "        const buttonEl =\n",
              "          document.querySelector('#df-aa311758-9c08-4a4a-833e-c47fa5ca7278 button.colab-df-convert');\n",
              "        buttonEl.style.display =\n",
              "          google.colab.kernel.accessAllowed ? 'block' : 'none';\n",
              "\n",
              "        async function convertToInteractive(key) {\n",
              "          const element = document.querySelector('#df-aa311758-9c08-4a4a-833e-c47fa5ca7278');\n",
              "          const dataTable =\n",
              "            await google.colab.kernel.invokeFunction('convertToInteractive',\n",
              "                                                     [key], {});\n",
              "          if (!dataTable) return;\n",
              "\n",
              "          const docLinkHtml = 'Like what you see? Visit the ' +\n",
              "            '<a target=\"_blank\" href=https://colab.research.google.com/notebooks/data_table.ipynb>data table notebook</a>'\n",
              "            + ' to learn more about interactive tables.';\n",
              "          element.innerHTML = '';\n",
              "          dataTable['output_type'] = 'display_data';\n",
              "          await google.colab.output.renderOutput(dataTable, element);\n",
              "          const docLink = document.createElement('div');\n",
              "          docLink.innerHTML = docLinkHtml;\n",
              "          element.appendChild(docLink);\n",
              "        }\n",
              "      </script>\n",
              "    </div>\n",
              "  </div>\n",
              "  "
            ]
          },
          "metadata": {},
          "execution_count": 25
        }
      ]
    },
    {
      "cell_type": "markdown",
      "source": [
        "# 4. Find the eco move with most winnings.\n",
        "Ps. Use this opening move in your next chess game\n",
        "Result attributes: eco, eco_name"
      ],
      "metadata": {
        "id": "Us6QDwgug9E5"
      }
    },
    {
      "cell_type": "code",
      "source": [
        "def eco_move(dataframe):\n",
        "  try:\n",
        "    result_df = dataframe.filter(dataframe.winner != \"draw\")\\\n",
        "    .groupBy(\"eco\",\"eco_name\").agg(count(\"*\").alias(\"number_of_occurences\")).orderBy(\"number_of_occurences\", ascending = False).limit(1)\n",
        "\n",
        "    result_df = result_df.toPandas()\n",
        "    result_df.to_csv(\"df4.csv\")\n",
        "\n",
        "    return result_df\n",
        "  \n",
        "  except Exception as e:\n",
        "    print(e)"
      ],
      "metadata": {
        "id": "zB32Ck_WUABs"
      },
      "execution_count": 26,
      "outputs": []
    },
    {
      "cell_type": "code",
      "source": [
        "eco_move(df_final)"
      ],
      "metadata": {
        "colab": {
          "base_uri": "https://localhost:8080/",
          "height": 81
        },
        "id": "6Vi5s4OGUme8",
        "outputId": "436926ae-6baa-437f-a585-9355d990ee15"
      },
      "execution_count": 27,
      "outputs": [
        {
          "output_type": "execute_result",
          "data": {
            "text/plain": [
              "   eco           eco_name  number_of_occurences\n",
              "0  B90  Sicilian, Najdorf                  2153"
            ],
            "text/html": [
              "\n",
              "  <div id=\"df-46c7b345-3fbd-40a6-aa88-344970f04ede\">\n",
              "    <div class=\"colab-df-container\">\n",
              "      <div>\n",
              "<style scoped>\n",
              "    .dataframe tbody tr th:only-of-type {\n",
              "        vertical-align: middle;\n",
              "    }\n",
              "\n",
              "    .dataframe tbody tr th {\n",
              "        vertical-align: top;\n",
              "    }\n",
              "\n",
              "    .dataframe thead th {\n",
              "        text-align: right;\n",
              "    }\n",
              "</style>\n",
              "<table border=\"1\" class=\"dataframe\">\n",
              "  <thead>\n",
              "    <tr style=\"text-align: right;\">\n",
              "      <th></th>\n",
              "      <th>eco</th>\n",
              "      <th>eco_name</th>\n",
              "      <th>number_of_occurences</th>\n",
              "    </tr>\n",
              "  </thead>\n",
              "  <tbody>\n",
              "    <tr>\n",
              "      <th>0</th>\n",
              "      <td>B90</td>\n",
              "      <td>Sicilian, Najdorf</td>\n",
              "      <td>2153</td>\n",
              "    </tr>\n",
              "  </tbody>\n",
              "</table>\n",
              "</div>\n",
              "      <button class=\"colab-df-convert\" onclick=\"convertToInteractive('df-46c7b345-3fbd-40a6-aa88-344970f04ede')\"\n",
              "              title=\"Convert this dataframe to an interactive table.\"\n",
              "              style=\"display:none;\">\n",
              "        \n",
              "  <svg xmlns=\"http://www.w3.org/2000/svg\" height=\"24px\"viewBox=\"0 0 24 24\"\n",
              "       width=\"24px\">\n",
              "    <path d=\"M0 0h24v24H0V0z\" fill=\"none\"/>\n",
              "    <path d=\"M18.56 5.44l.94 2.06.94-2.06 2.06-.94-2.06-.94-.94-2.06-.94 2.06-2.06.94zm-11 1L8.5 8.5l.94-2.06 2.06-.94-2.06-.94L8.5 2.5l-.94 2.06-2.06.94zm10 10l.94 2.06.94-2.06 2.06-.94-2.06-.94-.94-2.06-.94 2.06-2.06.94z\"/><path d=\"M17.41 7.96l-1.37-1.37c-.4-.4-.92-.59-1.43-.59-.52 0-1.04.2-1.43.59L10.3 9.45l-7.72 7.72c-.78.78-.78 2.05 0 2.83L4 21.41c.39.39.9.59 1.41.59.51 0 1.02-.2 1.41-.59l7.78-7.78 2.81-2.81c.8-.78.8-2.07 0-2.86zM5.41 20L4 18.59l7.72-7.72 1.47 1.35L5.41 20z\"/>\n",
              "  </svg>\n",
              "      </button>\n",
              "      \n",
              "  <style>\n",
              "    .colab-df-container {\n",
              "      display:flex;\n",
              "      flex-wrap:wrap;\n",
              "      gap: 12px;\n",
              "    }\n",
              "\n",
              "    .colab-df-convert {\n",
              "      background-color: #E8F0FE;\n",
              "      border: none;\n",
              "      border-radius: 50%;\n",
              "      cursor: pointer;\n",
              "      display: none;\n",
              "      fill: #1967D2;\n",
              "      height: 32px;\n",
              "      padding: 0 0 0 0;\n",
              "      width: 32px;\n",
              "    }\n",
              "\n",
              "    .colab-df-convert:hover {\n",
              "      background-color: #E2EBFA;\n",
              "      box-shadow: 0px 1px 2px rgba(60, 64, 67, 0.3), 0px 1px 3px 1px rgba(60, 64, 67, 0.15);\n",
              "      fill: #174EA6;\n",
              "    }\n",
              "\n",
              "    [theme=dark] .colab-df-convert {\n",
              "      background-color: #3B4455;\n",
              "      fill: #D2E3FC;\n",
              "    }\n",
              "\n",
              "    [theme=dark] .colab-df-convert:hover {\n",
              "      background-color: #434B5C;\n",
              "      box-shadow: 0px 1px 3px 1px rgba(0, 0, 0, 0.15);\n",
              "      filter: drop-shadow(0px 1px 2px rgba(0, 0, 0, 0.3));\n",
              "      fill: #FFFFFF;\n",
              "    }\n",
              "  </style>\n",
              "\n",
              "      <script>\n",
              "        const buttonEl =\n",
              "          document.querySelector('#df-46c7b345-3fbd-40a6-aa88-344970f04ede button.colab-df-convert');\n",
              "        buttonEl.style.display =\n",
              "          google.colab.kernel.accessAllowed ? 'block' : 'none';\n",
              "\n",
              "        async function convertToInteractive(key) {\n",
              "          const element = document.querySelector('#df-46c7b345-3fbd-40a6-aa88-344970f04ede');\n",
              "          const dataTable =\n",
              "            await google.colab.kernel.invokeFunction('convertToInteractive',\n",
              "                                                     [key], {});\n",
              "          if (!dataTable) return;\n",
              "\n",
              "          const docLinkHtml = 'Like what you see? Visit the ' +\n",
              "            '<a target=\"_blank\" href=https://colab.research.google.com/notebooks/data_table.ipynb>data table notebook</a>'\n",
              "            + ' to learn more about interactive tables.';\n",
              "          element.innerHTML = '';\n",
              "          dataTable['output_type'] = 'display_data';\n",
              "          await google.colab.output.renderOutput(dataTable, element);\n",
              "          const docLink = document.createElement('div');\n",
              "          docLink.innerHTML = docLinkHtml;\n",
              "          element.appendChild(docLink);\n",
              "        }\n",
              "      </script>\n",
              "    </div>\n",
              "  </div>\n",
              "  "
            ]
          },
          "metadata": {},
          "execution_count": 27
        }
      ]
    },
    {
      "cell_type": "markdown",
      "source": [
        "# 5. Longest and shortest game ever played in a world championship in terms of move.\n",
        "Chess Funda: \"move\" is completed once both White and Black have played one turn. e.g If a game lasts 10 moves, both White and Black have\n",
        "played 10 moves)\n",
        "\n",
        "Result attributes: game_id, event, tournament_name, number_of_moves\n",
        "\n",
        "Final result will have only two rows"
      ],
      "metadata": {
        "id": "5uRg1aeTriHY"
      }
    },
    {
      "cell_type": "code",
      "source": [
        "def long_short_game_played(dataframe):\n",
        "  try:\n",
        "    df = dataframe.groupBy(\"game_id\",\"event\", \"tournament_name\").agg(when(count(\"*\") % 2 == 0, count(\"*\")/2).otherwise((count(\"*\")-1)/2).alias(\"number_of_moves\"))\n",
        "    result_df = (df.orderBy(\"number_of_moves\", ascending = False).limit(1)).unionAll(df.orderBy(\"number_of_moves\").limit(1))\n",
        "\n",
        "    result_df = result_df.toPandas()\n",
        "    result_df.to_csv(\"df5.csv\")\n",
        "\n",
        "    return result_df\n",
        "  \n",
        "  except Exception as e:\n",
        "    print(e)"
      ],
      "metadata": {
        "id": "zJR4sQ5SUuv9"
      },
      "execution_count": 28,
      "outputs": []
    },
    {
      "cell_type": "code",
      "source": [
        "long_short_game_played(df_final)"
      ],
      "metadata": {
        "colab": {
          "base_uri": "https://localhost:8080/",
          "height": 112
        },
        "id": "BGtAdGNOVyxa",
        "outputId": "18716355-d49c-4c37-99ad-f369231bafc7"
      },
      "execution_count": 29,
      "outputs": [
        {
          "output_type": "execute_result",
          "data": {
            "text/plain": [
              "                                game_id                    event  \\\n",
              "0  4424a0a4-3732-407c-bf0c-da47f6d91921              FIDE WCh KO   \n",
              "1  1846cede-0037-4f04-9dc2-bf948cf08d72  World Championship 28th   \n",
              "\n",
              "  tournament_name  number_of_moves  \n",
              "0   FideChamp2000            145.0  \n",
              "1  WorldChamp1972              0.0  "
            ],
            "text/html": [
              "\n",
              "  <div id=\"df-85054586-f645-4b9b-b4a8-8e4d1b4bef49\">\n",
              "    <div class=\"colab-df-container\">\n",
              "      <div>\n",
              "<style scoped>\n",
              "    .dataframe tbody tr th:only-of-type {\n",
              "        vertical-align: middle;\n",
              "    }\n",
              "\n",
              "    .dataframe tbody tr th {\n",
              "        vertical-align: top;\n",
              "    }\n",
              "\n",
              "    .dataframe thead th {\n",
              "        text-align: right;\n",
              "    }\n",
              "</style>\n",
              "<table border=\"1\" class=\"dataframe\">\n",
              "  <thead>\n",
              "    <tr style=\"text-align: right;\">\n",
              "      <th></th>\n",
              "      <th>game_id</th>\n",
              "      <th>event</th>\n",
              "      <th>tournament_name</th>\n",
              "      <th>number_of_moves</th>\n",
              "    </tr>\n",
              "  </thead>\n",
              "  <tbody>\n",
              "    <tr>\n",
              "      <th>0</th>\n",
              "      <td>4424a0a4-3732-407c-bf0c-da47f6d91921</td>\n",
              "      <td>FIDE WCh KO</td>\n",
              "      <td>FideChamp2000</td>\n",
              "      <td>145.0</td>\n",
              "    </tr>\n",
              "    <tr>\n",
              "      <th>1</th>\n",
              "      <td>1846cede-0037-4f04-9dc2-bf948cf08d72</td>\n",
              "      <td>World Championship 28th</td>\n",
              "      <td>WorldChamp1972</td>\n",
              "      <td>0.0</td>\n",
              "    </tr>\n",
              "  </tbody>\n",
              "</table>\n",
              "</div>\n",
              "      <button class=\"colab-df-convert\" onclick=\"convertToInteractive('df-85054586-f645-4b9b-b4a8-8e4d1b4bef49')\"\n",
              "              title=\"Convert this dataframe to an interactive table.\"\n",
              "              style=\"display:none;\">\n",
              "        \n",
              "  <svg xmlns=\"http://www.w3.org/2000/svg\" height=\"24px\"viewBox=\"0 0 24 24\"\n",
              "       width=\"24px\">\n",
              "    <path d=\"M0 0h24v24H0V0z\" fill=\"none\"/>\n",
              "    <path d=\"M18.56 5.44l.94 2.06.94-2.06 2.06-.94-2.06-.94-.94-2.06-.94 2.06-2.06.94zm-11 1L8.5 8.5l.94-2.06 2.06-.94-2.06-.94L8.5 2.5l-.94 2.06-2.06.94zm10 10l.94 2.06.94-2.06 2.06-.94-2.06-.94-.94-2.06-.94 2.06-2.06.94z\"/><path d=\"M17.41 7.96l-1.37-1.37c-.4-.4-.92-.59-1.43-.59-.52 0-1.04.2-1.43.59L10.3 9.45l-7.72 7.72c-.78.78-.78 2.05 0 2.83L4 21.41c.39.39.9.59 1.41.59.51 0 1.02-.2 1.41-.59l7.78-7.78 2.81-2.81c.8-.78.8-2.07 0-2.86zM5.41 20L4 18.59l7.72-7.72 1.47 1.35L5.41 20z\"/>\n",
              "  </svg>\n",
              "      </button>\n",
              "      \n",
              "  <style>\n",
              "    .colab-df-container {\n",
              "      display:flex;\n",
              "      flex-wrap:wrap;\n",
              "      gap: 12px;\n",
              "    }\n",
              "\n",
              "    .colab-df-convert {\n",
              "      background-color: #E8F0FE;\n",
              "      border: none;\n",
              "      border-radius: 50%;\n",
              "      cursor: pointer;\n",
              "      display: none;\n",
              "      fill: #1967D2;\n",
              "      height: 32px;\n",
              "      padding: 0 0 0 0;\n",
              "      width: 32px;\n",
              "    }\n",
              "\n",
              "    .colab-df-convert:hover {\n",
              "      background-color: #E2EBFA;\n",
              "      box-shadow: 0px 1px 2px rgba(60, 64, 67, 0.3), 0px 1px 3px 1px rgba(60, 64, 67, 0.15);\n",
              "      fill: #174EA6;\n",
              "    }\n",
              "\n",
              "    [theme=dark] .colab-df-convert {\n",
              "      background-color: #3B4455;\n",
              "      fill: #D2E3FC;\n",
              "    }\n",
              "\n",
              "    [theme=dark] .colab-df-convert:hover {\n",
              "      background-color: #434B5C;\n",
              "      box-shadow: 0px 1px 3px 1px rgba(0, 0, 0, 0.15);\n",
              "      filter: drop-shadow(0px 1px 2px rgba(0, 0, 0, 0.3));\n",
              "      fill: #FFFFFF;\n",
              "    }\n",
              "  </style>\n",
              "\n",
              "      <script>\n",
              "        const buttonEl =\n",
              "          document.querySelector('#df-85054586-f645-4b9b-b4a8-8e4d1b4bef49 button.colab-df-convert');\n",
              "        buttonEl.style.display =\n",
              "          google.colab.kernel.accessAllowed ? 'block' : 'none';\n",
              "\n",
              "        async function convertToInteractive(key) {\n",
              "          const element = document.querySelector('#df-85054586-f645-4b9b-b4a8-8e4d1b4bef49');\n",
              "          const dataTable =\n",
              "            await google.colab.kernel.invokeFunction('convertToInteractive',\n",
              "                                                     [key], {});\n",
              "          if (!dataTable) return;\n",
              "\n",
              "          const docLinkHtml = 'Like what you see? Visit the ' +\n",
              "            '<a target=\"_blank\" href=https://colab.research.google.com/notebooks/data_table.ipynb>data table notebook</a>'\n",
              "            + ' to learn more about interactive tables.';\n",
              "          element.innerHTML = '';\n",
              "          dataTable['output_type'] = 'display_data';\n",
              "          await google.colab.output.renderOutput(dataTable, element);\n",
              "          const docLink = document.createElement('div');\n",
              "          docLink.innerHTML = docLinkHtml;\n",
              "          element.appendChild(docLink);\n",
              "        }\n",
              "      </script>\n",
              "    </div>\n",
              "  </div>\n",
              "  "
            ]
          },
          "metadata": {},
          "execution_count": 29
        }
      ]
    },
    {
      "cell_type": "markdown",
      "source": [
        "# 6. Shortest and Longest Draw game ever Played.\n",
        "Result attributes: game_id, event, tournament_name, number_of_moves\n",
        "Final result will have only two rows"
      ],
      "metadata": {
        "id": "5bwBGIRe315X"
      }
    },
    {
      "cell_type": "code",
      "source": [
        "def long_short_draw_played(dataframe):\n",
        "  try:\n",
        "    df = dataframe.filter(dataframe.winner == \"draw\").groupBy(\"game_id\",\"event\", \"tournament_name\")\\\n",
        "    .agg(when(count(\"*\") % 2 == 0, count(\"*\")/2).otherwise((count(\"*\")-1)/2).alias(\"number_of_moves\"))\n",
        "    result_df = (df.orderBy(\"number_of_moves\", ascending = False).limit(1)).unionAll(df.orderBy(\"number_of_moves\").limit(1))\n",
        "    \n",
        "    result_df = result_df.toPandas()\n",
        "    result_df.to_csv(\"df6.csv\")\n",
        "\n",
        "    return result_df\n",
        "  \n",
        "  except Exception as e:\n",
        "    print(e)"
      ],
      "metadata": {
        "id": "x1rfzOTiWGKX"
      },
      "execution_count": 30,
      "outputs": []
    },
    {
      "cell_type": "code",
      "source": [
        "long_short_draw_played(df_final)"
      ],
      "metadata": {
        "colab": {
          "base_uri": "https://localhost:8080/",
          "height": 112
        },
        "id": "Ob7wGSE6W3nb",
        "outputId": "a35cb289-57aa-4067-b075-7ee7294a796a"
      },
      "execution_count": 31,
      "outputs": [
        {
          "output_type": "execute_result",
          "data": {
            "text/plain": [
              "                                game_id        event tournament_name  \\\n",
              "0  88f34084-e4df-4908-b381-9502ca65e9bf  FIDE WCh KO   FideChamp2002   \n",
              "1  90baaafa-b306-4508-bf07-194ae21aee0e  FIDE WCh KO   FideChamp2000   \n",
              "\n",
              "   number_of_moves  \n",
              "0            129.0  \n",
              "1              6.0  "
            ],
            "text/html": [
              "\n",
              "  <div id=\"df-8d618130-105c-457c-ad8f-ccc66682c358\">\n",
              "    <div class=\"colab-df-container\">\n",
              "      <div>\n",
              "<style scoped>\n",
              "    .dataframe tbody tr th:only-of-type {\n",
              "        vertical-align: middle;\n",
              "    }\n",
              "\n",
              "    .dataframe tbody tr th {\n",
              "        vertical-align: top;\n",
              "    }\n",
              "\n",
              "    .dataframe thead th {\n",
              "        text-align: right;\n",
              "    }\n",
              "</style>\n",
              "<table border=\"1\" class=\"dataframe\">\n",
              "  <thead>\n",
              "    <tr style=\"text-align: right;\">\n",
              "      <th></th>\n",
              "      <th>game_id</th>\n",
              "      <th>event</th>\n",
              "      <th>tournament_name</th>\n",
              "      <th>number_of_moves</th>\n",
              "    </tr>\n",
              "  </thead>\n",
              "  <tbody>\n",
              "    <tr>\n",
              "      <th>0</th>\n",
              "      <td>88f34084-e4df-4908-b381-9502ca65e9bf</td>\n",
              "      <td>FIDE WCh KO</td>\n",
              "      <td>FideChamp2002</td>\n",
              "      <td>129.0</td>\n",
              "    </tr>\n",
              "    <tr>\n",
              "      <th>1</th>\n",
              "      <td>90baaafa-b306-4508-bf07-194ae21aee0e</td>\n",
              "      <td>FIDE WCh KO</td>\n",
              "      <td>FideChamp2000</td>\n",
              "      <td>6.0</td>\n",
              "    </tr>\n",
              "  </tbody>\n",
              "</table>\n",
              "</div>\n",
              "      <button class=\"colab-df-convert\" onclick=\"convertToInteractive('df-8d618130-105c-457c-ad8f-ccc66682c358')\"\n",
              "              title=\"Convert this dataframe to an interactive table.\"\n",
              "              style=\"display:none;\">\n",
              "        \n",
              "  <svg xmlns=\"http://www.w3.org/2000/svg\" height=\"24px\"viewBox=\"0 0 24 24\"\n",
              "       width=\"24px\">\n",
              "    <path d=\"M0 0h24v24H0V0z\" fill=\"none\"/>\n",
              "    <path d=\"M18.56 5.44l.94 2.06.94-2.06 2.06-.94-2.06-.94-.94-2.06-.94 2.06-2.06.94zm-11 1L8.5 8.5l.94-2.06 2.06-.94-2.06-.94L8.5 2.5l-.94 2.06-2.06.94zm10 10l.94 2.06.94-2.06 2.06-.94-2.06-.94-.94-2.06-.94 2.06-2.06.94z\"/><path d=\"M17.41 7.96l-1.37-1.37c-.4-.4-.92-.59-1.43-.59-.52 0-1.04.2-1.43.59L10.3 9.45l-7.72 7.72c-.78.78-.78 2.05 0 2.83L4 21.41c.39.39.9.59 1.41.59.51 0 1.02-.2 1.41-.59l7.78-7.78 2.81-2.81c.8-.78.8-2.07 0-2.86zM5.41 20L4 18.59l7.72-7.72 1.47 1.35L5.41 20z\"/>\n",
              "  </svg>\n",
              "      </button>\n",
              "      \n",
              "  <style>\n",
              "    .colab-df-container {\n",
              "      display:flex;\n",
              "      flex-wrap:wrap;\n",
              "      gap: 12px;\n",
              "    }\n",
              "\n",
              "    .colab-df-convert {\n",
              "      background-color: #E8F0FE;\n",
              "      border: none;\n",
              "      border-radius: 50%;\n",
              "      cursor: pointer;\n",
              "      display: none;\n",
              "      fill: #1967D2;\n",
              "      height: 32px;\n",
              "      padding: 0 0 0 0;\n",
              "      width: 32px;\n",
              "    }\n",
              "\n",
              "    .colab-df-convert:hover {\n",
              "      background-color: #E2EBFA;\n",
              "      box-shadow: 0px 1px 2px rgba(60, 64, 67, 0.3), 0px 1px 3px 1px rgba(60, 64, 67, 0.15);\n",
              "      fill: #174EA6;\n",
              "    }\n",
              "\n",
              "    [theme=dark] .colab-df-convert {\n",
              "      background-color: #3B4455;\n",
              "      fill: #D2E3FC;\n",
              "    }\n",
              "\n",
              "    [theme=dark] .colab-df-convert:hover {\n",
              "      background-color: #434B5C;\n",
              "      box-shadow: 0px 1px 3px 1px rgba(0, 0, 0, 0.15);\n",
              "      filter: drop-shadow(0px 1px 2px rgba(0, 0, 0, 0.3));\n",
              "      fill: #FFFFFF;\n",
              "    }\n",
              "  </style>\n",
              "\n",
              "      <script>\n",
              "        const buttonEl =\n",
              "          document.querySelector('#df-8d618130-105c-457c-ad8f-ccc66682c358 button.colab-df-convert');\n",
              "        buttonEl.style.display =\n",
              "          google.colab.kernel.accessAllowed ? 'block' : 'none';\n",
              "\n",
              "        async function convertToInteractive(key) {\n",
              "          const element = document.querySelector('#df-8d618130-105c-457c-ad8f-ccc66682c358');\n",
              "          const dataTable =\n",
              "            await google.colab.kernel.invokeFunction('convertToInteractive',\n",
              "                                                     [key], {});\n",
              "          if (!dataTable) return;\n",
              "\n",
              "          const docLinkHtml = 'Like what you see? Visit the ' +\n",
              "            '<a target=\"_blank\" href=https://colab.research.google.com/notebooks/data_table.ipynb>data table notebook</a>'\n",
              "            + ' to learn more about interactive tables.';\n",
              "          element.innerHTML = '';\n",
              "          dataTable['output_type'] = 'display_data';\n",
              "          await google.colab.output.renderOutput(dataTable, element);\n",
              "          const docLink = document.createElement('div');\n",
              "          docLink.innerHTML = docLinkHtml;\n",
              "          element.appendChild(docLink);\n",
              "        }\n",
              "      </script>\n",
              "    </div>\n",
              "  </div>\n",
              "  "
            ]
          },
          "metadata": {},
          "execution_count": 31
        }
      ]
    },
    {
      "cell_type": "markdown",
      "source": [
        "# 7. Most and Least rated Player.\n",
        "Result attributes: player_name, elo\n",
        "Chess Funda: elo is the rating of the player in chess tournament.\n",
        "Final result will have only two rows"
      ],
      "metadata": {
        "id": "cQJ7vrCR4c1D"
      }
    },
    {
      "cell_type": "code",
      "source": [
        "def most_least_rated_player(dataframe):\n",
        "  try:\n",
        "    df = dataframe.select(\"player\", when(df_final.player == df_final.white, df_final.white_elo)\\\n",
        "                          .when(df_final.player == df_final.black, df_final.black_elo).alias(\"elo\"))\\\n",
        "                          .groupBy(\"player\", \"elo\").count()\\\n",
        "                          .groupBy(\"player\").agg(sum(\"elo\").alias(\"elo\")).na.drop()\n",
        "    result_df = (df.orderBy(\"elo\", ascending = False).limit(1)).unionAll(df.orderBy(\"elo\").limit(1))\n",
        "    \n",
        "    result_df = result_df.toPandas()\n",
        "    result_df.to_csv(\"df7.csv\")\n",
        "\n",
        "    return result_df\n",
        "\n",
        "  except Exception as e:\n",
        "    print(e)"
      ],
      "metadata": {
        "id": "7GlA28x1XfPA"
      },
      "execution_count": 32,
      "outputs": []
    },
    {
      "cell_type": "code",
      "source": [
        "most_least_rated_player(df_final)"
      ],
      "metadata": {
        "colab": {
          "base_uri": "https://localhost:8080/",
          "height": 112
        },
        "id": "_-c8bvobYWYx",
        "outputId": "65e63a4d-4000-4612-e253-e547dfc2f2f9"
      },
      "execution_count": 33,
      "outputs": [
        {
          "output_type": "execute_result",
          "data": {
            "text/plain": [
              "            player    elo\n",
              "0  Karpov, Anatoly  24590\n",
              "1        Abulhul,T   2076"
            ],
            "text/html": [
              "\n",
              "  <div id=\"df-a65f1e74-a615-4ad1-99b6-bd27611eb230\">\n",
              "    <div class=\"colab-df-container\">\n",
              "      <div>\n",
              "<style scoped>\n",
              "    .dataframe tbody tr th:only-of-type {\n",
              "        vertical-align: middle;\n",
              "    }\n",
              "\n",
              "    .dataframe tbody tr th {\n",
              "        vertical-align: top;\n",
              "    }\n",
              "\n",
              "    .dataframe thead th {\n",
              "        text-align: right;\n",
              "    }\n",
              "</style>\n",
              "<table border=\"1\" class=\"dataframe\">\n",
              "  <thead>\n",
              "    <tr style=\"text-align: right;\">\n",
              "      <th></th>\n",
              "      <th>player</th>\n",
              "      <th>elo</th>\n",
              "    </tr>\n",
              "  </thead>\n",
              "  <tbody>\n",
              "    <tr>\n",
              "      <th>0</th>\n",
              "      <td>Karpov, Anatoly</td>\n",
              "      <td>24590</td>\n",
              "    </tr>\n",
              "    <tr>\n",
              "      <th>1</th>\n",
              "      <td>Abulhul,T</td>\n",
              "      <td>2076</td>\n",
              "    </tr>\n",
              "  </tbody>\n",
              "</table>\n",
              "</div>\n",
              "      <button class=\"colab-df-convert\" onclick=\"convertToInteractive('df-a65f1e74-a615-4ad1-99b6-bd27611eb230')\"\n",
              "              title=\"Convert this dataframe to an interactive table.\"\n",
              "              style=\"display:none;\">\n",
              "        \n",
              "  <svg xmlns=\"http://www.w3.org/2000/svg\" height=\"24px\"viewBox=\"0 0 24 24\"\n",
              "       width=\"24px\">\n",
              "    <path d=\"M0 0h24v24H0V0z\" fill=\"none\"/>\n",
              "    <path d=\"M18.56 5.44l.94 2.06.94-2.06 2.06-.94-2.06-.94-.94-2.06-.94 2.06-2.06.94zm-11 1L8.5 8.5l.94-2.06 2.06-.94-2.06-.94L8.5 2.5l-.94 2.06-2.06.94zm10 10l.94 2.06.94-2.06 2.06-.94-2.06-.94-.94-2.06-.94 2.06-2.06.94z\"/><path d=\"M17.41 7.96l-1.37-1.37c-.4-.4-.92-.59-1.43-.59-.52 0-1.04.2-1.43.59L10.3 9.45l-7.72 7.72c-.78.78-.78 2.05 0 2.83L4 21.41c.39.39.9.59 1.41.59.51 0 1.02-.2 1.41-.59l7.78-7.78 2.81-2.81c.8-.78.8-2.07 0-2.86zM5.41 20L4 18.59l7.72-7.72 1.47 1.35L5.41 20z\"/>\n",
              "  </svg>\n",
              "      </button>\n",
              "      \n",
              "  <style>\n",
              "    .colab-df-container {\n",
              "      display:flex;\n",
              "      flex-wrap:wrap;\n",
              "      gap: 12px;\n",
              "    }\n",
              "\n",
              "    .colab-df-convert {\n",
              "      background-color: #E8F0FE;\n",
              "      border: none;\n",
              "      border-radius: 50%;\n",
              "      cursor: pointer;\n",
              "      display: none;\n",
              "      fill: #1967D2;\n",
              "      height: 32px;\n",
              "      padding: 0 0 0 0;\n",
              "      width: 32px;\n",
              "    }\n",
              "\n",
              "    .colab-df-convert:hover {\n",
              "      background-color: #E2EBFA;\n",
              "      box-shadow: 0px 1px 2px rgba(60, 64, 67, 0.3), 0px 1px 3px 1px rgba(60, 64, 67, 0.15);\n",
              "      fill: #174EA6;\n",
              "    }\n",
              "\n",
              "    [theme=dark] .colab-df-convert {\n",
              "      background-color: #3B4455;\n",
              "      fill: #D2E3FC;\n",
              "    }\n",
              "\n",
              "    [theme=dark] .colab-df-convert:hover {\n",
              "      background-color: #434B5C;\n",
              "      box-shadow: 0px 1px 3px 1px rgba(0, 0, 0, 0.15);\n",
              "      filter: drop-shadow(0px 1px 2px rgba(0, 0, 0, 0.3));\n",
              "      fill: #FFFFFF;\n",
              "    }\n",
              "  </style>\n",
              "\n",
              "      <script>\n",
              "        const buttonEl =\n",
              "          document.querySelector('#df-a65f1e74-a615-4ad1-99b6-bd27611eb230 button.colab-df-convert');\n",
              "        buttonEl.style.display =\n",
              "          google.colab.kernel.accessAllowed ? 'block' : 'none';\n",
              "\n",
              "        async function convertToInteractive(key) {\n",
              "          const element = document.querySelector('#df-a65f1e74-a615-4ad1-99b6-bd27611eb230');\n",
              "          const dataTable =\n",
              "            await google.colab.kernel.invokeFunction('convertToInteractive',\n",
              "                                                     [key], {});\n",
              "          if (!dataTable) return;\n",
              "\n",
              "          const docLinkHtml = 'Like what you see? Visit the ' +\n",
              "            '<a target=\"_blank\" href=https://colab.research.google.com/notebooks/data_table.ipynb>data table notebook</a>'\n",
              "            + ' to learn more about interactive tables.';\n",
              "          element.innerHTML = '';\n",
              "          dataTable['output_type'] = 'display_data';\n",
              "          await google.colab.output.renderOutput(dataTable, element);\n",
              "          const docLink = document.createElement('div');\n",
              "          docLink.innerHTML = docLinkHtml;\n",
              "          element.appendChild(docLink);\n",
              "        }\n",
              "      </script>\n",
              "    </div>\n",
              "  </div>\n",
              "  "
            ]
          },
          "metadata": {},
          "execution_count": 33
        }
      ]
    },
    {
      "cell_type": "markdown",
      "source": [
        "# 8. 3rd Last Player with most Loss.\n",
        "\n",
        "Result attributes: player_name\n",
        "Final result will have only one row"
      ],
      "metadata": {
        "id": "xH_5lsUYr-WV"
      }
    },
    {
      "cell_type": "code",
      "source": [
        "def third_last_player(dataframe):\n",
        "  try:\n",
        "    player_name = dataframe.select(\"loser\").na.drop().groupBy(col(\"loser\").alias(\"player_name\")).count()\\\n",
        "    .select(\"player_name\").orderBy(\"count\").collect()[2]\n",
        "\n",
        "    result_df = pd.DataFrame({\"player_name\": player_name})\n",
        "    result_df.to_csv(\"df8.csv\")\n",
        "\n",
        "    return result_df\n",
        "\n",
        "  except Exception as e:\n",
        "    print(e)"
      ],
      "metadata": {
        "id": "APLZKcbAYhUK"
      },
      "execution_count": 34,
      "outputs": []
    },
    {
      "cell_type": "code",
      "source": [
        "third_last_player(df_final)"
      ],
      "metadata": {
        "colab": {
          "base_uri": "https://localhost:8080/",
          "height": 81
        },
        "id": "HIaTFbUyZR2C",
        "outputId": "0a6e665c-6814-4092-ace6-7280bbfd8ae5"
      },
      "execution_count": 35,
      "outputs": [
        {
          "output_type": "execute_result",
          "data": {
            "text/plain": [
              "  player_name\n",
              "0     Aseev,K"
            ],
            "text/html": [
              "\n",
              "  <div id=\"df-c449a456-f125-4a0e-aaed-df91aa11be11\">\n",
              "    <div class=\"colab-df-container\">\n",
              "      <div>\n",
              "<style scoped>\n",
              "    .dataframe tbody tr th:only-of-type {\n",
              "        vertical-align: middle;\n",
              "    }\n",
              "\n",
              "    .dataframe tbody tr th {\n",
              "        vertical-align: top;\n",
              "    }\n",
              "\n",
              "    .dataframe thead th {\n",
              "        text-align: right;\n",
              "    }\n",
              "</style>\n",
              "<table border=\"1\" class=\"dataframe\">\n",
              "  <thead>\n",
              "    <tr style=\"text-align: right;\">\n",
              "      <th></th>\n",
              "      <th>player_name</th>\n",
              "    </tr>\n",
              "  </thead>\n",
              "  <tbody>\n",
              "    <tr>\n",
              "      <th>0</th>\n",
              "      <td>Aseev,K</td>\n",
              "    </tr>\n",
              "  </tbody>\n",
              "</table>\n",
              "</div>\n",
              "      <button class=\"colab-df-convert\" onclick=\"convertToInteractive('df-c449a456-f125-4a0e-aaed-df91aa11be11')\"\n",
              "              title=\"Convert this dataframe to an interactive table.\"\n",
              "              style=\"display:none;\">\n",
              "        \n",
              "  <svg xmlns=\"http://www.w3.org/2000/svg\" height=\"24px\"viewBox=\"0 0 24 24\"\n",
              "       width=\"24px\">\n",
              "    <path d=\"M0 0h24v24H0V0z\" fill=\"none\"/>\n",
              "    <path d=\"M18.56 5.44l.94 2.06.94-2.06 2.06-.94-2.06-.94-.94-2.06-.94 2.06-2.06.94zm-11 1L8.5 8.5l.94-2.06 2.06-.94-2.06-.94L8.5 2.5l-.94 2.06-2.06.94zm10 10l.94 2.06.94-2.06 2.06-.94-2.06-.94-.94-2.06-.94 2.06-2.06.94z\"/><path d=\"M17.41 7.96l-1.37-1.37c-.4-.4-.92-.59-1.43-.59-.52 0-1.04.2-1.43.59L10.3 9.45l-7.72 7.72c-.78.78-.78 2.05 0 2.83L4 21.41c.39.39.9.59 1.41.59.51 0 1.02-.2 1.41-.59l7.78-7.78 2.81-2.81c.8-.78.8-2.07 0-2.86zM5.41 20L4 18.59l7.72-7.72 1.47 1.35L5.41 20z\"/>\n",
              "  </svg>\n",
              "      </button>\n",
              "      \n",
              "  <style>\n",
              "    .colab-df-container {\n",
              "      display:flex;\n",
              "      flex-wrap:wrap;\n",
              "      gap: 12px;\n",
              "    }\n",
              "\n",
              "    .colab-df-convert {\n",
              "      background-color: #E8F0FE;\n",
              "      border: none;\n",
              "      border-radius: 50%;\n",
              "      cursor: pointer;\n",
              "      display: none;\n",
              "      fill: #1967D2;\n",
              "      height: 32px;\n",
              "      padding: 0 0 0 0;\n",
              "      width: 32px;\n",
              "    }\n",
              "\n",
              "    .colab-df-convert:hover {\n",
              "      background-color: #E2EBFA;\n",
              "      box-shadow: 0px 1px 2px rgba(60, 64, 67, 0.3), 0px 1px 3px 1px rgba(60, 64, 67, 0.15);\n",
              "      fill: #174EA6;\n",
              "    }\n",
              "\n",
              "    [theme=dark] .colab-df-convert {\n",
              "      background-color: #3B4455;\n",
              "      fill: #D2E3FC;\n",
              "    }\n",
              "\n",
              "    [theme=dark] .colab-df-convert:hover {\n",
              "      background-color: #434B5C;\n",
              "      box-shadow: 0px 1px 3px 1px rgba(0, 0, 0, 0.15);\n",
              "      filter: drop-shadow(0px 1px 2px rgba(0, 0, 0, 0.3));\n",
              "      fill: #FFFFFF;\n",
              "    }\n",
              "  </style>\n",
              "\n",
              "      <script>\n",
              "        const buttonEl =\n",
              "          document.querySelector('#df-c449a456-f125-4a0e-aaed-df91aa11be11 button.colab-df-convert');\n",
              "        buttonEl.style.display =\n",
              "          google.colab.kernel.accessAllowed ? 'block' : 'none';\n",
              "\n",
              "        async function convertToInteractive(key) {\n",
              "          const element = document.querySelector('#df-c449a456-f125-4a0e-aaed-df91aa11be11');\n",
              "          const dataTable =\n",
              "            await google.colab.kernel.invokeFunction('convertToInteractive',\n",
              "                                                     [key], {});\n",
              "          if (!dataTable) return;\n",
              "\n",
              "          const docLinkHtml = 'Like what you see? Visit the ' +\n",
              "            '<a target=\"_blank\" href=https://colab.research.google.com/notebooks/data_table.ipynb>data table notebook</a>'\n",
              "            + ' to learn more about interactive tables.';\n",
              "          element.innerHTML = '';\n",
              "          dataTable['output_type'] = 'display_data';\n",
              "          await google.colab.output.renderOutput(dataTable, element);\n",
              "          const docLink = document.createElement('div');\n",
              "          docLink.innerHTML = docLinkHtml;\n",
              "          element.appendChild(docLink);\n",
              "        }\n",
              "      </script>\n",
              "    </div>\n",
              "  </div>\n",
              "  "
            ]
          },
          "metadata": {},
          "execution_count": 35
        }
      ]
    },
    {
      "cell_type": "markdown",
      "source": [
        "# 9. How many times players with low rating won matches with their total win Count.\n",
        "Result attributes: player_name, win_count"
      ],
      "metadata": {
        "id": "Z4muPSQk-6Z1"
      }
    },
    {
      "cell_type": "code",
      "source": [
        "def players_low_rating_won_matches(dataframe):\n",
        "  try:\n",
        "    result_df = dataframe.select('player','winner', when(dataframe.color == 'White',dataframe.white_elo)\\\n",
        "                        .when(dataframe.color == 'Black',dataframe.black_elo).alias('rating'))\\\n",
        "                        .filter(dataframe.winner != 'draw')\\\n",
        "                        .groupBy('player')\\\n",
        "                        .agg(min('rating').alias('min_rating'),count('winner').alias('win_count'))\\\n",
        "                        .select('player','win_count')\n",
        "\n",
        "    result_df = result_df.toPandas()\n",
        "    result_df.to_csv(\"df9.csv\")\n",
        "\n",
        "    return result_df\n",
        "\n",
        "  except Exception as e:\n",
        "    print(e)"
      ],
      "metadata": {
        "id": "57czMr-jZuX1"
      },
      "execution_count": 36,
      "outputs": []
    },
    {
      "cell_type": "code",
      "source": [
        "players_low_rating_won_matches(df_final).head()"
      ],
      "metadata": {
        "colab": {
          "base_uri": "https://localhost:8080/",
          "height": 206
        },
        "id": "rfa_o7UUccb_",
        "outputId": "d290b5d0-5fc5-44d8-c277-45aa9d04d53c"
      },
      "execution_count": 37,
      "outputs": [
        {
          "output_type": "execute_result",
          "data": {
            "text/plain": [
              "              player  win_count\n",
              "0  Hamdouchi, Hichem        123\n",
              "1    Fridman, Daniel        112\n",
              "2     Svidler, Peter        438\n",
              "3    Alterman, Boris        106\n",
              "4   Nepomniachtchi,I        268"
            ],
            "text/html": [
              "\n",
              "  <div id=\"df-fdbedb76-ed6a-4d67-9fbb-b17deffc38bb\">\n",
              "    <div class=\"colab-df-container\">\n",
              "      <div>\n",
              "<style scoped>\n",
              "    .dataframe tbody tr th:only-of-type {\n",
              "        vertical-align: middle;\n",
              "    }\n",
              "\n",
              "    .dataframe tbody tr th {\n",
              "        vertical-align: top;\n",
              "    }\n",
              "\n",
              "    .dataframe thead th {\n",
              "        text-align: right;\n",
              "    }\n",
              "</style>\n",
              "<table border=\"1\" class=\"dataframe\">\n",
              "  <thead>\n",
              "    <tr style=\"text-align: right;\">\n",
              "      <th></th>\n",
              "      <th>player</th>\n",
              "      <th>win_count</th>\n",
              "    </tr>\n",
              "  </thead>\n",
              "  <tbody>\n",
              "    <tr>\n",
              "      <th>0</th>\n",
              "      <td>Hamdouchi, Hichem</td>\n",
              "      <td>123</td>\n",
              "    </tr>\n",
              "    <tr>\n",
              "      <th>1</th>\n",
              "      <td>Fridman, Daniel</td>\n",
              "      <td>112</td>\n",
              "    </tr>\n",
              "    <tr>\n",
              "      <th>2</th>\n",
              "      <td>Svidler, Peter</td>\n",
              "      <td>438</td>\n",
              "    </tr>\n",
              "    <tr>\n",
              "      <th>3</th>\n",
              "      <td>Alterman, Boris</td>\n",
              "      <td>106</td>\n",
              "    </tr>\n",
              "    <tr>\n",
              "      <th>4</th>\n",
              "      <td>Nepomniachtchi,I</td>\n",
              "      <td>268</td>\n",
              "    </tr>\n",
              "  </tbody>\n",
              "</table>\n",
              "</div>\n",
              "      <button class=\"colab-df-convert\" onclick=\"convertToInteractive('df-fdbedb76-ed6a-4d67-9fbb-b17deffc38bb')\"\n",
              "              title=\"Convert this dataframe to an interactive table.\"\n",
              "              style=\"display:none;\">\n",
              "        \n",
              "  <svg xmlns=\"http://www.w3.org/2000/svg\" height=\"24px\"viewBox=\"0 0 24 24\"\n",
              "       width=\"24px\">\n",
              "    <path d=\"M0 0h24v24H0V0z\" fill=\"none\"/>\n",
              "    <path d=\"M18.56 5.44l.94 2.06.94-2.06 2.06-.94-2.06-.94-.94-2.06-.94 2.06-2.06.94zm-11 1L8.5 8.5l.94-2.06 2.06-.94-2.06-.94L8.5 2.5l-.94 2.06-2.06.94zm10 10l.94 2.06.94-2.06 2.06-.94-2.06-.94-.94-2.06-.94 2.06-2.06.94z\"/><path d=\"M17.41 7.96l-1.37-1.37c-.4-.4-.92-.59-1.43-.59-.52 0-1.04.2-1.43.59L10.3 9.45l-7.72 7.72c-.78.78-.78 2.05 0 2.83L4 21.41c.39.39.9.59 1.41.59.51 0 1.02-.2 1.41-.59l7.78-7.78 2.81-2.81c.8-.78.8-2.07 0-2.86zM5.41 20L4 18.59l7.72-7.72 1.47 1.35L5.41 20z\"/>\n",
              "  </svg>\n",
              "      </button>\n",
              "      \n",
              "  <style>\n",
              "    .colab-df-container {\n",
              "      display:flex;\n",
              "      flex-wrap:wrap;\n",
              "      gap: 12px;\n",
              "    }\n",
              "\n",
              "    .colab-df-convert {\n",
              "      background-color: #E8F0FE;\n",
              "      border: none;\n",
              "      border-radius: 50%;\n",
              "      cursor: pointer;\n",
              "      display: none;\n",
              "      fill: #1967D2;\n",
              "      height: 32px;\n",
              "      padding: 0 0 0 0;\n",
              "      width: 32px;\n",
              "    }\n",
              "\n",
              "    .colab-df-convert:hover {\n",
              "      background-color: #E2EBFA;\n",
              "      box-shadow: 0px 1px 2px rgba(60, 64, 67, 0.3), 0px 1px 3px 1px rgba(60, 64, 67, 0.15);\n",
              "      fill: #174EA6;\n",
              "    }\n",
              "\n",
              "    [theme=dark] .colab-df-convert {\n",
              "      background-color: #3B4455;\n",
              "      fill: #D2E3FC;\n",
              "    }\n",
              "\n",
              "    [theme=dark] .colab-df-convert:hover {\n",
              "      background-color: #434B5C;\n",
              "      box-shadow: 0px 1px 3px 1px rgba(0, 0, 0, 0.15);\n",
              "      filter: drop-shadow(0px 1px 2px rgba(0, 0, 0, 0.3));\n",
              "      fill: #FFFFFF;\n",
              "    }\n",
              "  </style>\n",
              "\n",
              "      <script>\n",
              "        const buttonEl =\n",
              "          document.querySelector('#df-fdbedb76-ed6a-4d67-9fbb-b17deffc38bb button.colab-df-convert');\n",
              "        buttonEl.style.display =\n",
              "          google.colab.kernel.accessAllowed ? 'block' : 'none';\n",
              "\n",
              "        async function convertToInteractive(key) {\n",
              "          const element = document.querySelector('#df-fdbedb76-ed6a-4d67-9fbb-b17deffc38bb');\n",
              "          const dataTable =\n",
              "            await google.colab.kernel.invokeFunction('convertToInteractive',\n",
              "                                                     [key], {});\n",
              "          if (!dataTable) return;\n",
              "\n",
              "          const docLinkHtml = 'Like what you see? Visit the ' +\n",
              "            '<a target=\"_blank\" href=https://colab.research.google.com/notebooks/data_table.ipynb>data table notebook</a>'\n",
              "            + ' to learn more about interactive tables.';\n",
              "          element.innerHTML = '';\n",
              "          dataTable['output_type'] = 'display_data';\n",
              "          await google.colab.output.renderOutput(dataTable, element);\n",
              "          const docLink = document.createElement('div');\n",
              "          docLink.innerHTML = docLinkHtml;\n",
              "          element.appendChild(docLink);\n",
              "        }\n",
              "      </script>\n",
              "    </div>\n",
              "  </div>\n",
              "  "
            ]
          },
          "metadata": {},
          "execution_count": 37
        }
      ]
    },
    {
      "cell_type": "markdown",
      "source": [
        "# 10. Move Sequence for Each Player in a Match.\n",
        "Result attributes: game_id, player_name, move_sequence, move_count"
      ],
      "metadata": {
        "id": "iWD1T_dcGms4"
      }
    },
    {
      "cell_type": "code",
      "source": [
        "def move_seq_players(dataframe):\n",
        "  try:\n",
        "    df = dataframe.groupBy(\"game_id\", col(\"player\").alias(\"player_name\")).agg(max(\"move_no_pair\").alias(\"move_count\"))\n",
        "    result_df = df.join(dataframe[\"move_sequence\", \"player\", \"move_no_pair\", \"game_id\"], \\\n",
        "                        (df.move_count == dataframe.move_no_pair) & (df.player_name == dataframe.player) \\\n",
        "                        & (df.game_id == dataframe.game_id), \"left\").drop(dataframe.game_id).drop(dataframe.player).drop(dataframe.move_no_pair)\\\n",
        "                        .select(\"game_id\", \"player_name\", \"move_sequence\", \"move_count\").orderBy(\"game_id\")\n",
        "    \n",
        "    result_df = result_df.toPandas()\n",
        "    result_df.to_csv(\"df10.csv\")\n",
        "\n",
        "    return result_df\n",
        "\n",
        "  except Exception as e:\n",
        "    print(e)"
      ],
      "metadata": {
        "id": "duqRc7H-dVpL"
      },
      "execution_count": 38,
      "outputs": []
    },
    {
      "cell_type": "code",
      "source": [
        "move_seq_players(df_final).head()"
      ],
      "metadata": {
        "colab": {
          "base_uri": "https://localhost:8080/",
          "height": 206
        },
        "id": "jY2WFD2jfY1j",
        "outputId": "9617fc2b-28ef-4e79-f79c-f1029156663d"
      },
      "execution_count": 39,
      "outputs": [
        {
          "output_type": "execute_result",
          "data": {
            "text/plain": [
              "                                game_id             player_name  \\\n",
              "0  0028cc2e-5aaa-4645-a8e9-4d6b51c8f9db                  Leko,P   \n",
              "1  0028cc2e-5aaa-4645-a8e9-4d6b51c8f9db             Khalifman,A   \n",
              "2  00563036-1aa1-42cc-84d0-bd95562cdb52       Krasenkow, Michal   \n",
              "3  00563036-1aa1-42cc-84d0-bd95562cdb52  Azmaiparashvili, Zurab   \n",
              "4  0059d5cb-2af8-48f7-91df-18cc6794d176            Anastasian,A   \n",
              "\n",
              "                                       move_sequence  move_count  \n",
              "0  d4|Nf6|Nf3|g6|c4|Bg7|Nc3|d5|Qb3|dxc4|Qxc4|O-O|...          16  \n",
              "1  d4|Nf6|Nf3|g6|c4|Bg7|Nc3|d5|Qb3|dxc4|Qxc4|O-O|...          17  \n",
              "2  e4|c5|c3|Nf6|e5|Nd5|g3|Nc6|Bg2|Qc7|f4|e6|Na3|B...          44  \n",
              "3  e4|c5|c3|Nf6|e5|Nd5|g3|Nc6|Bg2|Qc7|f4|e6|Na3|B...          45  \n",
              "4  d4|d5|c4|c6|Nf3|Nf6|Qb3|e6|Nc3|Nbd7|Bg5|Qa5|cx...          31  "
            ],
            "text/html": [
              "\n",
              "  <div id=\"df-a20b8419-30f7-402f-9899-b3283db82ac3\">\n",
              "    <div class=\"colab-df-container\">\n",
              "      <div>\n",
              "<style scoped>\n",
              "    .dataframe tbody tr th:only-of-type {\n",
              "        vertical-align: middle;\n",
              "    }\n",
              "\n",
              "    .dataframe tbody tr th {\n",
              "        vertical-align: top;\n",
              "    }\n",
              "\n",
              "    .dataframe thead th {\n",
              "        text-align: right;\n",
              "    }\n",
              "</style>\n",
              "<table border=\"1\" class=\"dataframe\">\n",
              "  <thead>\n",
              "    <tr style=\"text-align: right;\">\n",
              "      <th></th>\n",
              "      <th>game_id</th>\n",
              "      <th>player_name</th>\n",
              "      <th>move_sequence</th>\n",
              "      <th>move_count</th>\n",
              "    </tr>\n",
              "  </thead>\n",
              "  <tbody>\n",
              "    <tr>\n",
              "      <th>0</th>\n",
              "      <td>0028cc2e-5aaa-4645-a8e9-4d6b51c8f9db</td>\n",
              "      <td>Leko,P</td>\n",
              "      <td>d4|Nf6|Nf3|g6|c4|Bg7|Nc3|d5|Qb3|dxc4|Qxc4|O-O|...</td>\n",
              "      <td>16</td>\n",
              "    </tr>\n",
              "    <tr>\n",
              "      <th>1</th>\n",
              "      <td>0028cc2e-5aaa-4645-a8e9-4d6b51c8f9db</td>\n",
              "      <td>Khalifman,A</td>\n",
              "      <td>d4|Nf6|Nf3|g6|c4|Bg7|Nc3|d5|Qb3|dxc4|Qxc4|O-O|...</td>\n",
              "      <td>17</td>\n",
              "    </tr>\n",
              "    <tr>\n",
              "      <th>2</th>\n",
              "      <td>00563036-1aa1-42cc-84d0-bd95562cdb52</td>\n",
              "      <td>Krasenkow, Michal</td>\n",
              "      <td>e4|c5|c3|Nf6|e5|Nd5|g3|Nc6|Bg2|Qc7|f4|e6|Na3|B...</td>\n",
              "      <td>44</td>\n",
              "    </tr>\n",
              "    <tr>\n",
              "      <th>3</th>\n",
              "      <td>00563036-1aa1-42cc-84d0-bd95562cdb52</td>\n",
              "      <td>Azmaiparashvili, Zurab</td>\n",
              "      <td>e4|c5|c3|Nf6|e5|Nd5|g3|Nc6|Bg2|Qc7|f4|e6|Na3|B...</td>\n",
              "      <td>45</td>\n",
              "    </tr>\n",
              "    <tr>\n",
              "      <th>4</th>\n",
              "      <td>0059d5cb-2af8-48f7-91df-18cc6794d176</td>\n",
              "      <td>Anastasian,A</td>\n",
              "      <td>d4|d5|c4|c6|Nf3|Nf6|Qb3|e6|Nc3|Nbd7|Bg5|Qa5|cx...</td>\n",
              "      <td>31</td>\n",
              "    </tr>\n",
              "  </tbody>\n",
              "</table>\n",
              "</div>\n",
              "      <button class=\"colab-df-convert\" onclick=\"convertToInteractive('df-a20b8419-30f7-402f-9899-b3283db82ac3')\"\n",
              "              title=\"Convert this dataframe to an interactive table.\"\n",
              "              style=\"display:none;\">\n",
              "        \n",
              "  <svg xmlns=\"http://www.w3.org/2000/svg\" height=\"24px\"viewBox=\"0 0 24 24\"\n",
              "       width=\"24px\">\n",
              "    <path d=\"M0 0h24v24H0V0z\" fill=\"none\"/>\n",
              "    <path d=\"M18.56 5.44l.94 2.06.94-2.06 2.06-.94-2.06-.94-.94-2.06-.94 2.06-2.06.94zm-11 1L8.5 8.5l.94-2.06 2.06-.94-2.06-.94L8.5 2.5l-.94 2.06-2.06.94zm10 10l.94 2.06.94-2.06 2.06-.94-2.06-.94-.94-2.06-.94 2.06-2.06.94z\"/><path d=\"M17.41 7.96l-1.37-1.37c-.4-.4-.92-.59-1.43-.59-.52 0-1.04.2-1.43.59L10.3 9.45l-7.72 7.72c-.78.78-.78 2.05 0 2.83L4 21.41c.39.39.9.59 1.41.59.51 0 1.02-.2 1.41-.59l7.78-7.78 2.81-2.81c.8-.78.8-2.07 0-2.86zM5.41 20L4 18.59l7.72-7.72 1.47 1.35L5.41 20z\"/>\n",
              "  </svg>\n",
              "      </button>\n",
              "      \n",
              "  <style>\n",
              "    .colab-df-container {\n",
              "      display:flex;\n",
              "      flex-wrap:wrap;\n",
              "      gap: 12px;\n",
              "    }\n",
              "\n",
              "    .colab-df-convert {\n",
              "      background-color: #E8F0FE;\n",
              "      border: none;\n",
              "      border-radius: 50%;\n",
              "      cursor: pointer;\n",
              "      display: none;\n",
              "      fill: #1967D2;\n",
              "      height: 32px;\n",
              "      padding: 0 0 0 0;\n",
              "      width: 32px;\n",
              "    }\n",
              "\n",
              "    .colab-df-convert:hover {\n",
              "      background-color: #E2EBFA;\n",
              "      box-shadow: 0px 1px 2px rgba(60, 64, 67, 0.3), 0px 1px 3px 1px rgba(60, 64, 67, 0.15);\n",
              "      fill: #174EA6;\n",
              "    }\n",
              "\n",
              "    [theme=dark] .colab-df-convert {\n",
              "      background-color: #3B4455;\n",
              "      fill: #D2E3FC;\n",
              "    }\n",
              "\n",
              "    [theme=dark] .colab-df-convert:hover {\n",
              "      background-color: #434B5C;\n",
              "      box-shadow: 0px 1px 3px 1px rgba(0, 0, 0, 0.15);\n",
              "      filter: drop-shadow(0px 1px 2px rgba(0, 0, 0, 0.3));\n",
              "      fill: #FFFFFF;\n",
              "    }\n",
              "  </style>\n",
              "\n",
              "      <script>\n",
              "        const buttonEl =\n",
              "          document.querySelector('#df-a20b8419-30f7-402f-9899-b3283db82ac3 button.colab-df-convert');\n",
              "        buttonEl.style.display =\n",
              "          google.colab.kernel.accessAllowed ? 'block' : 'none';\n",
              "\n",
              "        async function convertToInteractive(key) {\n",
              "          const element = document.querySelector('#df-a20b8419-30f7-402f-9899-b3283db82ac3');\n",
              "          const dataTable =\n",
              "            await google.colab.kernel.invokeFunction('convertToInteractive',\n",
              "                                                     [key], {});\n",
              "          if (!dataTable) return;\n",
              "\n",
              "          const docLinkHtml = 'Like what you see? Visit the ' +\n",
              "            '<a target=\"_blank\" href=https://colab.research.google.com/notebooks/data_table.ipynb>data table notebook</a>'\n",
              "            + ' to learn more about interactive tables.';\n",
              "          element.innerHTML = '';\n",
              "          dataTable['output_type'] = 'display_data';\n",
              "          await google.colab.output.renderOutput(dataTable, element);\n",
              "          const docLink = document.createElement('div');\n",
              "          docLink.innerHTML = docLinkHtml;\n",
              "          element.appendChild(docLink);\n",
              "        }\n",
              "      </script>\n",
              "    </div>\n",
              "  </div>\n",
              "  "
            ]
          },
          "metadata": {},
          "execution_count": 39
        }
      ]
    },
    {
      "cell_type": "markdown",
      "source": [
        "# 11. Total Number of games where losing player has more Captured score than Winning player.\n",
        "Hint: Captured score is cumulative, i.e., for 3rd capture it will have score for 1, 2, and 3rd.\n",
        "Result attributes: total_number_of_games Final result will have only one row"
      ],
      "metadata": {
        "id": "yTTePWeOhqoE"
      }
    },
    {
      "cell_type": "code",
      "source": [
        "def num_of_games(dataframe):\n",
        "  try:\n",
        "    df = dataframe.filter(dataframe.winner != \"draw\").select(\"game_id\",\"player\", \"winner\",when(dataframe.color == \"White\", dataframe.captured_score_for_white)\\\n",
        "                                                            .when(dataframe.color == \"Black\", dataframe.captured_score_for_black).alias(\"captured_score\"))\\\n",
        "                                                            .groupBy(\"game_id\", \"player\", \"winner\").agg(sum(\"captured_score\").alias(\"winner_score\")).orderBy(\"game_id\")\n",
        "    \n",
        "    df1 = dataframe.filter(dataframe.winner != \"draw\").select(\"game_id\",\"player\", \"loser\", when(dataframe.color == \"White\", dataframe.captured_score_for_white)\\\n",
        "                                                            .when(dataframe.color == \"Black\", dataframe.captured_score_for_black).alias(\"captured_score\"))\\\n",
        "                                                            .groupBy(\"game_id\", \"player\", \"loser\").agg(sum(\"captured_score\").alias(\"loser_score\")).orderBy(\"game_id\")\n",
        "\n",
        "    result_df = df.join(df1 , (df.game_id == df1.game_id), \"inner\").drop(df.game_id).drop(df.player).filter(df.winner_score < df1.loser_score).select(\"game_id\").count()\n",
        "\n",
        "    result_df = pd.DataFrame({\"total_number_of_games\":result_df}, index=range(0,1))\n",
        "    result_df.to_csv(\"df11.csv\")\n",
        "\n",
        "    return result_df\n",
        "\n",
        "  except Exception as e:\n",
        "    print(e)"
      ],
      "metadata": {
        "id": "Ur8K_VLphIm-"
      },
      "execution_count": 40,
      "outputs": []
    },
    {
      "cell_type": "code",
      "source": [
        "num_of_games(df_final)"
      ],
      "metadata": {
        "colab": {
          "base_uri": "https://localhost:8080/",
          "height": 81
        },
        "id": "OawTFgjui6fU",
        "outputId": "bf8f2d5d-004a-4c5b-d6d7-831cd0eac353"
      },
      "execution_count": 41,
      "outputs": [
        {
          "output_type": "execute_result",
          "data": {
            "text/plain": [
              "   total_number_of_games\n",
              "0                   1404"
            ],
            "text/html": [
              "\n",
              "  <div id=\"df-53d5cc38-931f-44ea-b7a2-373b5530df2c\">\n",
              "    <div class=\"colab-df-container\">\n",
              "      <div>\n",
              "<style scoped>\n",
              "    .dataframe tbody tr th:only-of-type {\n",
              "        vertical-align: middle;\n",
              "    }\n",
              "\n",
              "    .dataframe tbody tr th {\n",
              "        vertical-align: top;\n",
              "    }\n",
              "\n",
              "    .dataframe thead th {\n",
              "        text-align: right;\n",
              "    }\n",
              "</style>\n",
              "<table border=\"1\" class=\"dataframe\">\n",
              "  <thead>\n",
              "    <tr style=\"text-align: right;\">\n",
              "      <th></th>\n",
              "      <th>total_number_of_games</th>\n",
              "    </tr>\n",
              "  </thead>\n",
              "  <tbody>\n",
              "    <tr>\n",
              "      <th>0</th>\n",
              "      <td>1404</td>\n",
              "    </tr>\n",
              "  </tbody>\n",
              "</table>\n",
              "</div>\n",
              "      <button class=\"colab-df-convert\" onclick=\"convertToInteractive('df-53d5cc38-931f-44ea-b7a2-373b5530df2c')\"\n",
              "              title=\"Convert this dataframe to an interactive table.\"\n",
              "              style=\"display:none;\">\n",
              "        \n",
              "  <svg xmlns=\"http://www.w3.org/2000/svg\" height=\"24px\"viewBox=\"0 0 24 24\"\n",
              "       width=\"24px\">\n",
              "    <path d=\"M0 0h24v24H0V0z\" fill=\"none\"/>\n",
              "    <path d=\"M18.56 5.44l.94 2.06.94-2.06 2.06-.94-2.06-.94-.94-2.06-.94 2.06-2.06.94zm-11 1L8.5 8.5l.94-2.06 2.06-.94-2.06-.94L8.5 2.5l-.94 2.06-2.06.94zm10 10l.94 2.06.94-2.06 2.06-.94-2.06-.94-.94-2.06-.94 2.06-2.06.94z\"/><path d=\"M17.41 7.96l-1.37-1.37c-.4-.4-.92-.59-1.43-.59-.52 0-1.04.2-1.43.59L10.3 9.45l-7.72 7.72c-.78.78-.78 2.05 0 2.83L4 21.41c.39.39.9.59 1.41.59.51 0 1.02-.2 1.41-.59l7.78-7.78 2.81-2.81c.8-.78.8-2.07 0-2.86zM5.41 20L4 18.59l7.72-7.72 1.47 1.35L5.41 20z\"/>\n",
              "  </svg>\n",
              "      </button>\n",
              "      \n",
              "  <style>\n",
              "    .colab-df-container {\n",
              "      display:flex;\n",
              "      flex-wrap:wrap;\n",
              "      gap: 12px;\n",
              "    }\n",
              "\n",
              "    .colab-df-convert {\n",
              "      background-color: #E8F0FE;\n",
              "      border: none;\n",
              "      border-radius: 50%;\n",
              "      cursor: pointer;\n",
              "      display: none;\n",
              "      fill: #1967D2;\n",
              "      height: 32px;\n",
              "      padding: 0 0 0 0;\n",
              "      width: 32px;\n",
              "    }\n",
              "\n",
              "    .colab-df-convert:hover {\n",
              "      background-color: #E2EBFA;\n",
              "      box-shadow: 0px 1px 2px rgba(60, 64, 67, 0.3), 0px 1px 3px 1px rgba(60, 64, 67, 0.15);\n",
              "      fill: #174EA6;\n",
              "    }\n",
              "\n",
              "    [theme=dark] .colab-df-convert {\n",
              "      background-color: #3B4455;\n",
              "      fill: #D2E3FC;\n",
              "    }\n",
              "\n",
              "    [theme=dark] .colab-df-convert:hover {\n",
              "      background-color: #434B5C;\n",
              "      box-shadow: 0px 1px 3px 1px rgba(0, 0, 0, 0.15);\n",
              "      filter: drop-shadow(0px 1px 2px rgba(0, 0, 0, 0.3));\n",
              "      fill: #FFFFFF;\n",
              "    }\n",
              "  </style>\n",
              "\n",
              "      <script>\n",
              "        const buttonEl =\n",
              "          document.querySelector('#df-53d5cc38-931f-44ea-b7a2-373b5530df2c button.colab-df-convert');\n",
              "        buttonEl.style.display =\n",
              "          google.colab.kernel.accessAllowed ? 'block' : 'none';\n",
              "\n",
              "        async function convertToInteractive(key) {\n",
              "          const element = document.querySelector('#df-53d5cc38-931f-44ea-b7a2-373b5530df2c');\n",
              "          const dataTable =\n",
              "            await google.colab.kernel.invokeFunction('convertToInteractive',\n",
              "                                                     [key], {});\n",
              "          if (!dataTable) return;\n",
              "\n",
              "          const docLinkHtml = 'Like what you see? Visit the ' +\n",
              "            '<a target=\"_blank\" href=https://colab.research.google.com/notebooks/data_table.ipynb>data table notebook</a>'\n",
              "            + ' to learn more about interactive tables.';\n",
              "          element.innerHTML = '';\n",
              "          dataTable['output_type'] = 'display_data';\n",
              "          await google.colab.output.renderOutput(dataTable, element);\n",
              "          const docLink = document.createElement('div');\n",
              "          docLink.innerHTML = docLinkHtml;\n",
              "          element.appendChild(docLink);\n",
              "        }\n",
              "      </script>\n",
              "    </div>\n",
              "  </div>\n",
              "  "
            ]
          },
          "metadata": {},
          "execution_count": 41
        }
      ]
    },
    {
      "cell_type": "markdown",
      "source": [
        "# 12. List All Perfect Tournament with Winner Name.\n",
        "Chess Funda: Perfect Tournament means a player has won all the matches excluding draw matches. e.g Player A has won 5 matches out of 7\n",
        "Matches in tournament where 2 matches are draw and player B has won 0 matches)\n",
        "Result attributes: winner_name, tournament_name\n"
      ],
      "metadata": {
        "id": "tO0kvR7Q5Cj4"
      }
    },
    {
      "cell_type": "code",
      "source": [
        "def list_perfect_tour_winner_name(dataframe):\n",
        "  try:\n",
        "    df = dataframe.select(\"*\",when(dataframe.winner != \"draw\", dataframe.winner).alias(\"without_draw\"),\\\n",
        "                          when(dataframe.winner == \"draw\", dataframe.winner).alias(\"with_draw\"))\\\n",
        "                          .groupBy(\"player\",\"tournament_name\").agg(count(\"winner\"),count(\"without_draw\"))\n",
        "    df1 = dataframe.select(\"*\",when(dataframe.winner != \"draw\", dataframe.winner).alias(\"winner_name\"), \\\n",
        "                          when(dataframe.winner == \"draw\", dataframe.winner).alias(\"with_draw\"))\\\n",
        "                          .groupBy(\"winner_name\", \"tournament_name\").agg(count(\"winner\")).na.drop()\n",
        "    \n",
        "    result_df = df1.join(df.select(\"player\", \"tournament_name\", \"count(without_draw)\"), \\\n",
        "                         (df.player == df1.winner_name)&(df.tournament_name == df1.tournament_name), \"left\")\\\n",
        "                         .filter(df1[\"count(winner)\"] == df[\"count(without_draw)\"]).drop(df.tournament_name)\\\n",
        "                         .select(\"winner_name\", \"tournament_name\")\n",
        "    \n",
        "    result_df = result_df.toPandas()\n",
        "    result_df.to_csv(\"df12.csv\")\n",
        "\n",
        "    return result_df\n",
        "\n",
        "  except Exception as e:\n",
        "    print(e)"
      ],
      "metadata": {
        "id": "es8zSzYejPyh"
      },
      "execution_count": 42,
      "outputs": []
    },
    {
      "cell_type": "code",
      "source": [
        "list_perfect_tour_winner_name(df_final)"
      ],
      "metadata": {
        "colab": {
          "base_uri": "https://localhost:8080/",
          "height": 175
        },
        "id": "_msIZYx9mXIQ",
        "outputId": "e97ad7c2-f5e4-4e77-e2de-715c2ef748bd"
      },
      "execution_count": 43,
      "outputs": [
        {
          "output_type": "execute_result",
          "data": {
            "text/plain": [
              "       winner_name tournament_name\n",
              "0        Lputian,S   FideChamp2004\n",
              "1  Zhang Pengxiang   FideChamp2002\n",
              "2      Movsesian,S   FideChamp2000\n",
              "3        Kharlov,A   FideChamp2000"
            ],
            "text/html": [
              "\n",
              "  <div id=\"df-8c52ddeb-2cd9-4e81-a1af-d949235c57a1\">\n",
              "    <div class=\"colab-df-container\">\n",
              "      <div>\n",
              "<style scoped>\n",
              "    .dataframe tbody tr th:only-of-type {\n",
              "        vertical-align: middle;\n",
              "    }\n",
              "\n",
              "    .dataframe tbody tr th {\n",
              "        vertical-align: top;\n",
              "    }\n",
              "\n",
              "    .dataframe thead th {\n",
              "        text-align: right;\n",
              "    }\n",
              "</style>\n",
              "<table border=\"1\" class=\"dataframe\">\n",
              "  <thead>\n",
              "    <tr style=\"text-align: right;\">\n",
              "      <th></th>\n",
              "      <th>winner_name</th>\n",
              "      <th>tournament_name</th>\n",
              "    </tr>\n",
              "  </thead>\n",
              "  <tbody>\n",
              "    <tr>\n",
              "      <th>0</th>\n",
              "      <td>Lputian,S</td>\n",
              "      <td>FideChamp2004</td>\n",
              "    </tr>\n",
              "    <tr>\n",
              "      <th>1</th>\n",
              "      <td>Zhang Pengxiang</td>\n",
              "      <td>FideChamp2002</td>\n",
              "    </tr>\n",
              "    <tr>\n",
              "      <th>2</th>\n",
              "      <td>Movsesian,S</td>\n",
              "      <td>FideChamp2000</td>\n",
              "    </tr>\n",
              "    <tr>\n",
              "      <th>3</th>\n",
              "      <td>Kharlov,A</td>\n",
              "      <td>FideChamp2000</td>\n",
              "    </tr>\n",
              "  </tbody>\n",
              "</table>\n",
              "</div>\n",
              "      <button class=\"colab-df-convert\" onclick=\"convertToInteractive('df-8c52ddeb-2cd9-4e81-a1af-d949235c57a1')\"\n",
              "              title=\"Convert this dataframe to an interactive table.\"\n",
              "              style=\"display:none;\">\n",
              "        \n",
              "  <svg xmlns=\"http://www.w3.org/2000/svg\" height=\"24px\"viewBox=\"0 0 24 24\"\n",
              "       width=\"24px\">\n",
              "    <path d=\"M0 0h24v24H0V0z\" fill=\"none\"/>\n",
              "    <path d=\"M18.56 5.44l.94 2.06.94-2.06 2.06-.94-2.06-.94-.94-2.06-.94 2.06-2.06.94zm-11 1L8.5 8.5l.94-2.06 2.06-.94-2.06-.94L8.5 2.5l-.94 2.06-2.06.94zm10 10l.94 2.06.94-2.06 2.06-.94-2.06-.94-.94-2.06-.94 2.06-2.06.94z\"/><path d=\"M17.41 7.96l-1.37-1.37c-.4-.4-.92-.59-1.43-.59-.52 0-1.04.2-1.43.59L10.3 9.45l-7.72 7.72c-.78.78-.78 2.05 0 2.83L4 21.41c.39.39.9.59 1.41.59.51 0 1.02-.2 1.41-.59l7.78-7.78 2.81-2.81c.8-.78.8-2.07 0-2.86zM5.41 20L4 18.59l7.72-7.72 1.47 1.35L5.41 20z\"/>\n",
              "  </svg>\n",
              "      </button>\n",
              "      \n",
              "  <style>\n",
              "    .colab-df-container {\n",
              "      display:flex;\n",
              "      flex-wrap:wrap;\n",
              "      gap: 12px;\n",
              "    }\n",
              "\n",
              "    .colab-df-convert {\n",
              "      background-color: #E8F0FE;\n",
              "      border: none;\n",
              "      border-radius: 50%;\n",
              "      cursor: pointer;\n",
              "      display: none;\n",
              "      fill: #1967D2;\n",
              "      height: 32px;\n",
              "      padding: 0 0 0 0;\n",
              "      width: 32px;\n",
              "    }\n",
              "\n",
              "    .colab-df-convert:hover {\n",
              "      background-color: #E2EBFA;\n",
              "      box-shadow: 0px 1px 2px rgba(60, 64, 67, 0.3), 0px 1px 3px 1px rgba(60, 64, 67, 0.15);\n",
              "      fill: #174EA6;\n",
              "    }\n",
              "\n",
              "    [theme=dark] .colab-df-convert {\n",
              "      background-color: #3B4455;\n",
              "      fill: #D2E3FC;\n",
              "    }\n",
              "\n",
              "    [theme=dark] .colab-df-convert:hover {\n",
              "      background-color: #434B5C;\n",
              "      box-shadow: 0px 1px 3px 1px rgba(0, 0, 0, 0.15);\n",
              "      filter: drop-shadow(0px 1px 2px rgba(0, 0, 0, 0.3));\n",
              "      fill: #FFFFFF;\n",
              "    }\n",
              "  </style>\n",
              "\n",
              "      <script>\n",
              "        const buttonEl =\n",
              "          document.querySelector('#df-8c52ddeb-2cd9-4e81-a1af-d949235c57a1 button.colab-df-convert');\n",
              "        buttonEl.style.display =\n",
              "          google.colab.kernel.accessAllowed ? 'block' : 'none';\n",
              "\n",
              "        async function convertToInteractive(key) {\n",
              "          const element = document.querySelector('#df-8c52ddeb-2cd9-4e81-a1af-d949235c57a1');\n",
              "          const dataTable =\n",
              "            await google.colab.kernel.invokeFunction('convertToInteractive',\n",
              "                                                     [key], {});\n",
              "          if (!dataTable) return;\n",
              "\n",
              "          const docLinkHtml = 'Like what you see? Visit the ' +\n",
              "            '<a target=\"_blank\" href=https://colab.research.google.com/notebooks/data_table.ipynb>data table notebook</a>'\n",
              "            + ' to learn more about interactive tables.';\n",
              "          element.innerHTML = '';\n",
              "          dataTable['output_type'] = 'display_data';\n",
              "          await google.colab.output.renderOutput(dataTable, element);\n",
              "          const docLink = document.createElement('div');\n",
              "          docLink.innerHTML = docLinkHtml;\n",
              "          element.appendChild(docLink);\n",
              "        }\n",
              "      </script>\n",
              "    </div>\n",
              "  </div>\n",
              "  "
            ]
          },
          "metadata": {},
          "execution_count": 43
        }
      ]
    },
    {
      "cell_type": "markdown",
      "source": [
        "# 13. Player with highest winning ratio.\n",
        "Hint: Winning ratio: (Number of rounds won)/(Number of rounds played)\n",
        "Result attributes: player_name\n",
        "Final result will have only one row"
      ],
      "metadata": {
        "id": "vK8y-YdjbjM5"
      }
    },
    {
      "cell_type": "code",
      "source": [
        "def player_highest_winning_ratio(dataframe):\n",
        "  try:\n",
        "    df = dataframe.filter(dataframe.winner != \"draw\").groupBy(\"player\").agg(sum(df_final.round).alias(\"round\"))\n",
        "    df1 = dataframe.groupBy(\"player\").agg(sum(df_final.round).alias(\"round\"))\n",
        "\n",
        "    result_df = df.join(df1, df.player == df1.player, \"inner\").drop(df.player).select(\"player\",(df.round/df1.round).alias(\"round\"))\\\n",
        "                .select(col(\"player\").alias(\"player_name\")).orderBy(\"round\", ascending = False).limit(1)\n",
        "    \n",
        "    result_df = result_df.toPandas()\n",
        "    result_df.to_csv(\"df13.csv\")\n",
        "    \n",
        "    return result_df\n",
        "  \n",
        "  except Exception as e:\n",
        "    print(e)"
      ],
      "metadata": {
        "id": "H5lguRabmhsg"
      },
      "execution_count": 44,
      "outputs": []
    },
    {
      "cell_type": "code",
      "source": [
        "player_highest_winning_ratio(df_final)"
      ],
      "metadata": {
        "colab": {
          "base_uri": "https://localhost:8080/",
          "height": 81
        },
        "id": "LxElWs_ynjUz",
        "outputId": "6a33d048-90f9-4412-dca8-658e581d305f"
      },
      "execution_count": 45,
      "outputs": [
        {
          "output_type": "execute_result",
          "data": {
            "text/plain": [
              "     player_name\n",
              "0  Charbonneau,P"
            ],
            "text/html": [
              "\n",
              "  <div id=\"df-54024764-1289-45b6-b808-5f83f7709864\">\n",
              "    <div class=\"colab-df-container\">\n",
              "      <div>\n",
              "<style scoped>\n",
              "    .dataframe tbody tr th:only-of-type {\n",
              "        vertical-align: middle;\n",
              "    }\n",
              "\n",
              "    .dataframe tbody tr th {\n",
              "        vertical-align: top;\n",
              "    }\n",
              "\n",
              "    .dataframe thead th {\n",
              "        text-align: right;\n",
              "    }\n",
              "</style>\n",
              "<table border=\"1\" class=\"dataframe\">\n",
              "  <thead>\n",
              "    <tr style=\"text-align: right;\">\n",
              "      <th></th>\n",
              "      <th>player_name</th>\n",
              "    </tr>\n",
              "  </thead>\n",
              "  <tbody>\n",
              "    <tr>\n",
              "      <th>0</th>\n",
              "      <td>Charbonneau,P</td>\n",
              "    </tr>\n",
              "  </tbody>\n",
              "</table>\n",
              "</div>\n",
              "      <button class=\"colab-df-convert\" onclick=\"convertToInteractive('df-54024764-1289-45b6-b808-5f83f7709864')\"\n",
              "              title=\"Convert this dataframe to an interactive table.\"\n",
              "              style=\"display:none;\">\n",
              "        \n",
              "  <svg xmlns=\"http://www.w3.org/2000/svg\" height=\"24px\"viewBox=\"0 0 24 24\"\n",
              "       width=\"24px\">\n",
              "    <path d=\"M0 0h24v24H0V0z\" fill=\"none\"/>\n",
              "    <path d=\"M18.56 5.44l.94 2.06.94-2.06 2.06-.94-2.06-.94-.94-2.06-.94 2.06-2.06.94zm-11 1L8.5 8.5l.94-2.06 2.06-.94-2.06-.94L8.5 2.5l-.94 2.06-2.06.94zm10 10l.94 2.06.94-2.06 2.06-.94-2.06-.94-.94-2.06-.94 2.06-2.06.94z\"/><path d=\"M17.41 7.96l-1.37-1.37c-.4-.4-.92-.59-1.43-.59-.52 0-1.04.2-1.43.59L10.3 9.45l-7.72 7.72c-.78.78-.78 2.05 0 2.83L4 21.41c.39.39.9.59 1.41.59.51 0 1.02-.2 1.41-.59l7.78-7.78 2.81-2.81c.8-.78.8-2.07 0-2.86zM5.41 20L4 18.59l7.72-7.72 1.47 1.35L5.41 20z\"/>\n",
              "  </svg>\n",
              "      </button>\n",
              "      \n",
              "  <style>\n",
              "    .colab-df-container {\n",
              "      display:flex;\n",
              "      flex-wrap:wrap;\n",
              "      gap: 12px;\n",
              "    }\n",
              "\n",
              "    .colab-df-convert {\n",
              "      background-color: #E8F0FE;\n",
              "      border: none;\n",
              "      border-radius: 50%;\n",
              "      cursor: pointer;\n",
              "      display: none;\n",
              "      fill: #1967D2;\n",
              "      height: 32px;\n",
              "      padding: 0 0 0 0;\n",
              "      width: 32px;\n",
              "    }\n",
              "\n",
              "    .colab-df-convert:hover {\n",
              "      background-color: #E2EBFA;\n",
              "      box-shadow: 0px 1px 2px rgba(60, 64, 67, 0.3), 0px 1px 3px 1px rgba(60, 64, 67, 0.15);\n",
              "      fill: #174EA6;\n",
              "    }\n",
              "\n",
              "    [theme=dark] .colab-df-convert {\n",
              "      background-color: #3B4455;\n",
              "      fill: #D2E3FC;\n",
              "    }\n",
              "\n",
              "    [theme=dark] .colab-df-convert:hover {\n",
              "      background-color: #434B5C;\n",
              "      box-shadow: 0px 1px 3px 1px rgba(0, 0, 0, 0.15);\n",
              "      filter: drop-shadow(0px 1px 2px rgba(0, 0, 0, 0.3));\n",
              "      fill: #FFFFFF;\n",
              "    }\n",
              "  </style>\n",
              "\n",
              "      <script>\n",
              "        const buttonEl =\n",
              "          document.querySelector('#df-54024764-1289-45b6-b808-5f83f7709864 button.colab-df-convert');\n",
              "        buttonEl.style.display =\n",
              "          google.colab.kernel.accessAllowed ? 'block' : 'none';\n",
              "\n",
              "        async function convertToInteractive(key) {\n",
              "          const element = document.querySelector('#df-54024764-1289-45b6-b808-5f83f7709864');\n",
              "          const dataTable =\n",
              "            await google.colab.kernel.invokeFunction('convertToInteractive',\n",
              "                                                     [key], {});\n",
              "          if (!dataTable) return;\n",
              "\n",
              "          const docLinkHtml = 'Like what you see? Visit the ' +\n",
              "            '<a target=\"_blank\" href=https://colab.research.google.com/notebooks/data_table.ipynb>data table notebook</a>'\n",
              "            + ' to learn more about interactive tables.';\n",
              "          element.innerHTML = '';\n",
              "          dataTable['output_type'] = 'display_data';\n",
              "          await google.colab.output.renderOutput(dataTable, element);\n",
              "          const docLink = document.createElement('div');\n",
              "          docLink.innerHTML = docLinkHtml;\n",
              "          element.appendChild(docLink);\n",
              "        }\n",
              "      </script>\n",
              "    </div>\n",
              "  </div>\n",
              "  "
            ]
          },
          "metadata": {},
          "execution_count": 45
        }
      ]
    },
    {
      "cell_type": "markdown",
      "source": [
        "# 14. Player who had given checkmate with Pawn.\n",
        "Note: Consider all events for this query\n",
        "Result attributes: player_name\n",
        "Final result will have only one row"
      ],
      "metadata": {
        "id": "bYpdsMTft3nM"
      }
    },
    {
      "cell_type": "code",
      "source": [
        "def player_checkmate_with_pawn(dataframe):\n",
        "  try:\n",
        "    result_df = dataframe.filter((df_final.is_check_mate == 1) & (df_final.white_pawn_count == 1)\\\n",
        "                                 & (df_final.black_pawn_count == 1) & (df_final.winner != \"draw\") )\\\n",
        "                                 .select(col(\"player\").alias(\"player_name\"))\n",
        "    \n",
        "    result_df = result_df.toPandas()\n",
        "    result_df.to_csv(\"df14.csv\")\n",
        "\n",
        "    return result_df\n",
        "\n",
        "  except Exception as e:\n",
        "    print(e)"
      ],
      "metadata": {
        "id": "5F54qGUEn1RQ"
      },
      "execution_count": 46,
      "outputs": []
    },
    {
      "cell_type": "code",
      "source": [
        "player_checkmate_with_pawn(df_final)"
      ],
      "metadata": {
        "colab": {
          "base_uri": "https://localhost:8080/",
          "height": 81
        },
        "id": "RgoH2kfDo2Nx",
        "outputId": "6139f904-e9a5-41ef-a76e-424893fa09ed"
      },
      "execution_count": 47,
      "outputs": [
        {
          "output_type": "execute_result",
          "data": {
            "text/plain": [
              "  player_name\n",
              "0  Nakamura,H"
            ],
            "text/html": [
              "\n",
              "  <div id=\"df-2f7ed0a6-5082-4c8f-a557-254e4eb02041\">\n",
              "    <div class=\"colab-df-container\">\n",
              "      <div>\n",
              "<style scoped>\n",
              "    .dataframe tbody tr th:only-of-type {\n",
              "        vertical-align: middle;\n",
              "    }\n",
              "\n",
              "    .dataframe tbody tr th {\n",
              "        vertical-align: top;\n",
              "    }\n",
              "\n",
              "    .dataframe thead th {\n",
              "        text-align: right;\n",
              "    }\n",
              "</style>\n",
              "<table border=\"1\" class=\"dataframe\">\n",
              "  <thead>\n",
              "    <tr style=\"text-align: right;\">\n",
              "      <th></th>\n",
              "      <th>player_name</th>\n",
              "    </tr>\n",
              "  </thead>\n",
              "  <tbody>\n",
              "    <tr>\n",
              "      <th>0</th>\n",
              "      <td>Nakamura,H</td>\n",
              "    </tr>\n",
              "  </tbody>\n",
              "</table>\n",
              "</div>\n",
              "      <button class=\"colab-df-convert\" onclick=\"convertToInteractive('df-2f7ed0a6-5082-4c8f-a557-254e4eb02041')\"\n",
              "              title=\"Convert this dataframe to an interactive table.\"\n",
              "              style=\"display:none;\">\n",
              "        \n",
              "  <svg xmlns=\"http://www.w3.org/2000/svg\" height=\"24px\"viewBox=\"0 0 24 24\"\n",
              "       width=\"24px\">\n",
              "    <path d=\"M0 0h24v24H0V0z\" fill=\"none\"/>\n",
              "    <path d=\"M18.56 5.44l.94 2.06.94-2.06 2.06-.94-2.06-.94-.94-2.06-.94 2.06-2.06.94zm-11 1L8.5 8.5l.94-2.06 2.06-.94-2.06-.94L8.5 2.5l-.94 2.06-2.06.94zm10 10l.94 2.06.94-2.06 2.06-.94-2.06-.94-.94-2.06-.94 2.06-2.06.94z\"/><path d=\"M17.41 7.96l-1.37-1.37c-.4-.4-.92-.59-1.43-.59-.52 0-1.04.2-1.43.59L10.3 9.45l-7.72 7.72c-.78.78-.78 2.05 0 2.83L4 21.41c.39.39.9.59 1.41.59.51 0 1.02-.2 1.41-.59l7.78-7.78 2.81-2.81c.8-.78.8-2.07 0-2.86zM5.41 20L4 18.59l7.72-7.72 1.47 1.35L5.41 20z\"/>\n",
              "  </svg>\n",
              "      </button>\n",
              "      \n",
              "  <style>\n",
              "    .colab-df-container {\n",
              "      display:flex;\n",
              "      flex-wrap:wrap;\n",
              "      gap: 12px;\n",
              "    }\n",
              "\n",
              "    .colab-df-convert {\n",
              "      background-color: #E8F0FE;\n",
              "      border: none;\n",
              "      border-radius: 50%;\n",
              "      cursor: pointer;\n",
              "      display: none;\n",
              "      fill: #1967D2;\n",
              "      height: 32px;\n",
              "      padding: 0 0 0 0;\n",
              "      width: 32px;\n",
              "    }\n",
              "\n",
              "    .colab-df-convert:hover {\n",
              "      background-color: #E2EBFA;\n",
              "      box-shadow: 0px 1px 2px rgba(60, 64, 67, 0.3), 0px 1px 3px 1px rgba(60, 64, 67, 0.15);\n",
              "      fill: #174EA6;\n",
              "    }\n",
              "\n",
              "    [theme=dark] .colab-df-convert {\n",
              "      background-color: #3B4455;\n",
              "      fill: #D2E3FC;\n",
              "    }\n",
              "\n",
              "    [theme=dark] .colab-df-convert:hover {\n",
              "      background-color: #434B5C;\n",
              "      box-shadow: 0px 1px 3px 1px rgba(0, 0, 0, 0.15);\n",
              "      filter: drop-shadow(0px 1px 2px rgba(0, 0, 0, 0.3));\n",
              "      fill: #FFFFFF;\n",
              "    }\n",
              "  </style>\n",
              "\n",
              "      <script>\n",
              "        const buttonEl =\n",
              "          document.querySelector('#df-2f7ed0a6-5082-4c8f-a557-254e4eb02041 button.colab-df-convert');\n",
              "        buttonEl.style.display =\n",
              "          google.colab.kernel.accessAllowed ? 'block' : 'none';\n",
              "\n",
              "        async function convertToInteractive(key) {\n",
              "          const element = document.querySelector('#df-2f7ed0a6-5082-4c8f-a557-254e4eb02041');\n",
              "          const dataTable =\n",
              "            await google.colab.kernel.invokeFunction('convertToInteractive',\n",
              "                                                     [key], {});\n",
              "          if (!dataTable) return;\n",
              "\n",
              "          const docLinkHtml = 'Like what you see? Visit the ' +\n",
              "            '<a target=\"_blank\" href=https://colab.research.google.com/notebooks/data_table.ipynb>data table notebook</a>'\n",
              "            + ' to learn more about interactive tables.';\n",
              "          element.innerHTML = '';\n",
              "          dataTable['output_type'] = 'display_data';\n",
              "          await google.colab.output.renderOutput(dataTable, element);\n",
              "          const docLink = document.createElement('div');\n",
              "          docLink.innerHTML = docLinkHtml;\n",
              "          element.appendChild(docLink);\n",
              "        }\n",
              "      </script>\n",
              "    </div>\n",
              "  </div>\n",
              "  "
            ]
          },
          "metadata": {},
          "execution_count": 47
        }
      ]
    },
    {
      "cell_type": "markdown",
      "source": [
        "# 15. List games where player has won game without queen.\n",
        "Result attributes: game_id, event, player_name\n"
      ],
      "metadata": {
        "id": "H3ZElh9vkmjU"
      }
    },
    {
      "cell_type": "code",
      "source": [
        "def player_won_without_queen(dataframe):\n",
        "  try:\n",
        "    result_df = dataframe.filter((dataframe.black_queen_count ==0) & (dataframe.white_queen_count == 0) & (dataframe.winner != \"draw\"))\\\n",
        "                                  .select(\"game_id\", \"event\", col(\"player\").alias(\"player_name\")).groupBy(\"game_id\", \"event\", \"player_name\").count()\\\n",
        "                                  .select(\"game_id\",\"event\", \"player_name\")\n",
        "\n",
        "    result_df = result_df.toPandas()\n",
        "    result_df.to_csv(\"df15.csv\")\n",
        "\n",
        "    return result_df\n",
        "\n",
        "  except Exception as e:\n",
        "    print(e)"
      ],
      "metadata": {
        "id": "2lt98GvPpFCz"
      },
      "execution_count": 48,
      "outputs": []
    },
    {
      "cell_type": "code",
      "source": [
        "player_won_without_queen(df_final).head()"
      ],
      "metadata": {
        "colab": {
          "base_uri": "https://localhost:8080/",
          "height": 206
        },
        "id": "sRZttSthp-Ii",
        "outputId": "424e6836-058b-4544-b933-075e09cb0d40"
      },
      "execution_count": 49,
      "outputs": [
        {
          "output_type": "execute_result",
          "data": {
            "text/plain": [
              "                                game_id                    event  \\\n",
              "0  a7e5d1c9-7e1c-4c8b-a525-49abcf09a69b              FIDE WCh KO   \n",
              "1  75b4989a-ec9d-4135-9bfa-91d6e0d820fe              FIDE WCh KO   \n",
              "2  f444bff8-acec-4162-b516-44ff0e1ebce7            FIDE-Wch k.o.   \n",
              "3  083a4003-8f7e-4bfc-aa64-f93904c8ef0f  World Championship 11th   \n",
              "4  ae3e67f9-d68f-410b-84db-ec1a69f4de63                      WCh   \n",
              "\n",
              "       player_name  \n",
              "0      Filippov,Va  \n",
              "1        Fiorito,F  \n",
              "2    Asrian, Karen  \n",
              "3  Lasker, Emanuel  \n",
              "4        Kramnik,V  "
            ],
            "text/html": [
              "\n",
              "  <div id=\"df-3abcaf4e-82e7-4184-b490-acce84a36ecb\">\n",
              "    <div class=\"colab-df-container\">\n",
              "      <div>\n",
              "<style scoped>\n",
              "    .dataframe tbody tr th:only-of-type {\n",
              "        vertical-align: middle;\n",
              "    }\n",
              "\n",
              "    .dataframe tbody tr th {\n",
              "        vertical-align: top;\n",
              "    }\n",
              "\n",
              "    .dataframe thead th {\n",
              "        text-align: right;\n",
              "    }\n",
              "</style>\n",
              "<table border=\"1\" class=\"dataframe\">\n",
              "  <thead>\n",
              "    <tr style=\"text-align: right;\">\n",
              "      <th></th>\n",
              "      <th>game_id</th>\n",
              "      <th>event</th>\n",
              "      <th>player_name</th>\n",
              "    </tr>\n",
              "  </thead>\n",
              "  <tbody>\n",
              "    <tr>\n",
              "      <th>0</th>\n",
              "      <td>a7e5d1c9-7e1c-4c8b-a525-49abcf09a69b</td>\n",
              "      <td>FIDE WCh KO</td>\n",
              "      <td>Filippov,Va</td>\n",
              "    </tr>\n",
              "    <tr>\n",
              "      <th>1</th>\n",
              "      <td>75b4989a-ec9d-4135-9bfa-91d6e0d820fe</td>\n",
              "      <td>FIDE WCh KO</td>\n",
              "      <td>Fiorito,F</td>\n",
              "    </tr>\n",
              "    <tr>\n",
              "      <th>2</th>\n",
              "      <td>f444bff8-acec-4162-b516-44ff0e1ebce7</td>\n",
              "      <td>FIDE-Wch k.o.</td>\n",
              "      <td>Asrian, Karen</td>\n",
              "    </tr>\n",
              "    <tr>\n",
              "      <th>3</th>\n",
              "      <td>083a4003-8f7e-4bfc-aa64-f93904c8ef0f</td>\n",
              "      <td>World Championship 11th</td>\n",
              "      <td>Lasker, Emanuel</td>\n",
              "    </tr>\n",
              "    <tr>\n",
              "      <th>4</th>\n",
              "      <td>ae3e67f9-d68f-410b-84db-ec1a69f4de63</td>\n",
              "      <td>WCh</td>\n",
              "      <td>Kramnik,V</td>\n",
              "    </tr>\n",
              "  </tbody>\n",
              "</table>\n",
              "</div>\n",
              "      <button class=\"colab-df-convert\" onclick=\"convertToInteractive('df-3abcaf4e-82e7-4184-b490-acce84a36ecb')\"\n",
              "              title=\"Convert this dataframe to an interactive table.\"\n",
              "              style=\"display:none;\">\n",
              "        \n",
              "  <svg xmlns=\"http://www.w3.org/2000/svg\" height=\"24px\"viewBox=\"0 0 24 24\"\n",
              "       width=\"24px\">\n",
              "    <path d=\"M0 0h24v24H0V0z\" fill=\"none\"/>\n",
              "    <path d=\"M18.56 5.44l.94 2.06.94-2.06 2.06-.94-2.06-.94-.94-2.06-.94 2.06-2.06.94zm-11 1L8.5 8.5l.94-2.06 2.06-.94-2.06-.94L8.5 2.5l-.94 2.06-2.06.94zm10 10l.94 2.06.94-2.06 2.06-.94-2.06-.94-.94-2.06-.94 2.06-2.06.94z\"/><path d=\"M17.41 7.96l-1.37-1.37c-.4-.4-.92-.59-1.43-.59-.52 0-1.04.2-1.43.59L10.3 9.45l-7.72 7.72c-.78.78-.78 2.05 0 2.83L4 21.41c.39.39.9.59 1.41.59.51 0 1.02-.2 1.41-.59l7.78-7.78 2.81-2.81c.8-.78.8-2.07 0-2.86zM5.41 20L4 18.59l7.72-7.72 1.47 1.35L5.41 20z\"/>\n",
              "  </svg>\n",
              "      </button>\n",
              "      \n",
              "  <style>\n",
              "    .colab-df-container {\n",
              "      display:flex;\n",
              "      flex-wrap:wrap;\n",
              "      gap: 12px;\n",
              "    }\n",
              "\n",
              "    .colab-df-convert {\n",
              "      background-color: #E8F0FE;\n",
              "      border: none;\n",
              "      border-radius: 50%;\n",
              "      cursor: pointer;\n",
              "      display: none;\n",
              "      fill: #1967D2;\n",
              "      height: 32px;\n",
              "      padding: 0 0 0 0;\n",
              "      width: 32px;\n",
              "    }\n",
              "\n",
              "    .colab-df-convert:hover {\n",
              "      background-color: #E2EBFA;\n",
              "      box-shadow: 0px 1px 2px rgba(60, 64, 67, 0.3), 0px 1px 3px 1px rgba(60, 64, 67, 0.15);\n",
              "      fill: #174EA6;\n",
              "    }\n",
              "\n",
              "    [theme=dark] .colab-df-convert {\n",
              "      background-color: #3B4455;\n",
              "      fill: #D2E3FC;\n",
              "    }\n",
              "\n",
              "    [theme=dark] .colab-df-convert:hover {\n",
              "      background-color: #434B5C;\n",
              "      box-shadow: 0px 1px 3px 1px rgba(0, 0, 0, 0.15);\n",
              "      filter: drop-shadow(0px 1px 2px rgba(0, 0, 0, 0.3));\n",
              "      fill: #FFFFFF;\n",
              "    }\n",
              "  </style>\n",
              "\n",
              "      <script>\n",
              "        const buttonEl =\n",
              "          document.querySelector('#df-3abcaf4e-82e7-4184-b490-acce84a36ecb button.colab-df-convert');\n",
              "        buttonEl.style.display =\n",
              "          google.colab.kernel.accessAllowed ? 'block' : 'none';\n",
              "\n",
              "        async function convertToInteractive(key) {\n",
              "          const element = document.querySelector('#df-3abcaf4e-82e7-4184-b490-acce84a36ecb');\n",
              "          const dataTable =\n",
              "            await google.colab.kernel.invokeFunction('convertToInteractive',\n",
              "                                                     [key], {});\n",
              "          if (!dataTable) return;\n",
              "\n",
              "          const docLinkHtml = 'Like what you see? Visit the ' +\n",
              "            '<a target=\"_blank\" href=https://colab.research.google.com/notebooks/data_table.ipynb>data table notebook</a>'\n",
              "            + ' to learn more about interactive tables.';\n",
              "          element.innerHTML = '';\n",
              "          dataTable['output_type'] = 'display_data';\n",
              "          await google.colab.output.renderOutput(dataTable, element);\n",
              "          const docLink = document.createElement('div');\n",
              "          docLink.innerHTML = docLinkHtml;\n",
              "          element.appendChild(docLink);\n",
              "        }\n",
              "      </script>\n",
              "    </div>\n",
              "  </div>\n",
              "  "
            ]
          },
          "metadata": {},
          "execution_count": 49
        }
      ]
    },
    {
      "cell_type": "code",
      "source": [],
      "metadata": {
        "id": "SPOv2JEjvTql"
      },
      "execution_count": 49,
      "outputs": []
    }
  ]
}